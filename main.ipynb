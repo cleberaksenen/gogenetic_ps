{
 "cells": [
  {
   "cell_type": "code",
   "execution_count": 2,
   "metadata": {},
   "outputs": [],
   "source": [
    "import pandas as pd\n",
    "import numpy as np\n",
    "import os\n",
    "import matplotlib.pyplot as plt\n",
    "import seaborn as sns\n",
    "import plotly.graph_objects as go\n",
    "import plotly.express as px\n",
    "from scipy.stats import entropy\n",
    "from scipy.cluster.hierarchy import linkage, dendrogram\n",
    "from sklearn.decomposition import PCA\n"
   ]
  },
  {
   "cell_type": "markdown",
   "metadata": {},
   "source": [
    "# 1. Carregamento dos dados\n",
    "A planilha \"tabela.tsv\" foi importada via biblioteca pandas, com separador por tabulação.\n",
    "\n",
    "Usei o skiprows para ignorar a primeira linha e remover o \"# Constructed from biom file\"."
   ]
  },
  {
   "cell_type": "code",
   "execution_count": 4,
   "metadata": {},
   "outputs": [],
   "source": [
    "df = pd.read_csv(\"./dados/tabela.tsv\", sep=\"\\t\", skiprows=1)"
   ]
  },
  {
   "cell_type": "code",
   "execution_count": 5,
   "metadata": {},
   "outputs": [
    {
     "data": {
      "text/html": [
       "<div>\n",
       "<style scoped>\n",
       "    .dataframe tbody tr th:only-of-type {\n",
       "        vertical-align: middle;\n",
       "    }\n",
       "\n",
       "    .dataframe tbody tr th {\n",
       "        vertical-align: top;\n",
       "    }\n",
       "\n",
       "    .dataframe thead th {\n",
       "        text-align: right;\n",
       "    }\n",
       "</style>\n",
       "<table border=\"1\" class=\"dataframe\">\n",
       "  <thead>\n",
       "    <tr style=\"text-align: right;\">\n",
       "      <th></th>\n",
       "      <th>#OTU ID</th>\n",
       "      <th>16S-Amostra1</th>\n",
       "      <th>16S-Amostra2</th>\n",
       "      <th>taxonomy</th>\n",
       "    </tr>\n",
       "  </thead>\n",
       "  <tbody>\n",
       "    <tr>\n",
       "      <th>0</th>\n",
       "      <td>321501a64794e926be7b961674c35a0f</td>\n",
       "      <td>0.0</td>\n",
       "      <td>1170.0</td>\n",
       "      <td>d__Bacteria; p__Actinobacteriota; c__Actinomyc...</td>\n",
       "    </tr>\n",
       "    <tr>\n",
       "      <th>1</th>\n",
       "      <td>2c47537f334048fd1472da325f00561d</td>\n",
       "      <td>0.0</td>\n",
       "      <td>316.0</td>\n",
       "      <td>d__Bacteria; p__Actinobacteriota; c__Actinomyc...</td>\n",
       "    </tr>\n",
       "    <tr>\n",
       "      <th>2</th>\n",
       "      <td>4a1547af0bbae2aff8f3222d2fba2102</td>\n",
       "      <td>179.0</td>\n",
       "      <td>0.0</td>\n",
       "      <td>d__Bacteria; p__Firmicutes_A; c__Clostridia; o...</td>\n",
       "    </tr>\n",
       "  </tbody>\n",
       "</table>\n",
       "</div>"
      ],
      "text/plain": [
       "                            #OTU ID  16S-Amostra1  16S-Amostra2  \\\n",
       "0  321501a64794e926be7b961674c35a0f           0.0        1170.0   \n",
       "1  2c47537f334048fd1472da325f00561d           0.0         316.0   \n",
       "2  4a1547af0bbae2aff8f3222d2fba2102         179.0           0.0   \n",
       "\n",
       "                                            taxonomy  \n",
       "0  d__Bacteria; p__Actinobacteriota; c__Actinomyc...  \n",
       "1  d__Bacteria; p__Actinobacteriota; c__Actinomyc...  \n",
       "2  d__Bacteria; p__Firmicutes_A; c__Clostridia; o...  "
      ]
     },
     "execution_count": 5,
     "metadata": {},
     "output_type": "execute_result"
    }
   ],
   "source": [
    "df.head(3)"
   ]
  },
  {
   "cell_type": "markdown",
   "metadata": {},
   "source": [
    "## ---"
   ]
  },
  {
   "cell_type": "markdown",
   "metadata": {},
   "source": [
    "# 2. Cálculo da Abundância Relativa dos gêneros por amostra"
   ]
  },
  {
   "cell_type": "markdown",
   "metadata": {},
   "source": [
    "O gênero foi obtido da coluna \"taxonomy\", sendo aqueles que se inicial por \"g__\""
   ]
  },
  {
   "cell_type": "code",
   "execution_count": 6,
   "metadata": {},
   "outputs": [],
   "source": [
    "df[\"Genero\"] = df[\"taxonomy\"].str.extract(r\"g__([^;]*)\")"
   ]
  },
  {
   "cell_type": "markdown",
   "metadata": {},
   "source": [
    "Defini os valores sem informações de gênero como \"Desconhecido\""
   ]
  },
  {
   "cell_type": "code",
   "execution_count": 7,
   "metadata": {},
   "outputs": [],
   "source": [
    "df[\"Genero\"] = df[\"Genero\"].fillna(\"Desconhecido\")"
   ]
  },
  {
   "cell_type": "markdown",
   "metadata": {},
   "source": [
    "Optei por remover os sufixos \"_A\" e \"_B\" dos gêneros para padronizar a nomenclatura e evitar confusões. Presumi que ambos pertencem ao mesmo gênero e que essas variações representam formas distintas dentro dele, sem, no entanto, indicarem uma classificação formal de espécie."
   ]
  },
  {
   "cell_type": "code",
   "execution_count": 8,
   "metadata": {},
   "outputs": [],
   "source": [
    "df[\"Genero\"] = df[\"Genero\"].str.replace(r\"_\\w$\", \"\", regex=True)"
   ]
  },
  {
   "cell_type": "markdown",
   "metadata": {},
   "source": [
    "Os dados quantitativos (provavelmente reads) de cada amostra foram somados e agrupados por gênero"
   ]
  },
  {
   "cell_type": "code",
   "execution_count": 9,
   "metadata": {},
   "outputs": [],
   "source": [
    "genero_abundancia = df.groupby(\"Genero\")[[\"16S-Amostra1\", \"16S-Amostra2\"]].sum()"
   ]
  },
  {
   "cell_type": "markdown",
   "metadata": {},
   "source": [
    "A abundância relativa foi calculada através do percentual quantitativo de cada gênero em relação ao total. Optei por arredondar para 2 casas decimais visando facilitar a visualização"
   ]
  },
  {
   "cell_type": "code",
   "execution_count": 10,
   "metadata": {},
   "outputs": [
    {
     "data": {
      "text/html": [
       "<div>\n",
       "<style scoped>\n",
       "    .dataframe tbody tr th:only-of-type {\n",
       "        vertical-align: middle;\n",
       "    }\n",
       "\n",
       "    .dataframe tbody tr th {\n",
       "        vertical-align: top;\n",
       "    }\n",
       "\n",
       "    .dataframe thead th {\n",
       "        text-align: right;\n",
       "    }\n",
       "</style>\n",
       "<table border=\"1\" class=\"dataframe\">\n",
       "  <thead>\n",
       "    <tr style=\"text-align: right;\">\n",
       "      <th></th>\n",
       "      <th>Genero</th>\n",
       "      <th>Amostra 1 (%)</th>\n",
       "      <th>Amostra 2 (%)</th>\n",
       "    </tr>\n",
       "  </thead>\n",
       "  <tbody>\n",
       "    <tr>\n",
       "      <th>0</th>\n",
       "      <td>Acetatifactor</td>\n",
       "      <td>0.80</td>\n",
       "      <td>0.00</td>\n",
       "    </tr>\n",
       "    <tr>\n",
       "      <th>1</th>\n",
       "      <td>Actinopolyspora</td>\n",
       "      <td>0.00</td>\n",
       "      <td>1.17</td>\n",
       "    </tr>\n",
       "    <tr>\n",
       "      <th>2</th>\n",
       "      <td>Agathobacter</td>\n",
       "      <td>3.35</td>\n",
       "      <td>0.00</td>\n",
       "    </tr>\n",
       "    <tr>\n",
       "      <th>3</th>\n",
       "      <td>Agathobaculum</td>\n",
       "      <td>1.48</td>\n",
       "      <td>0.00</td>\n",
       "    </tr>\n",
       "    <tr>\n",
       "      <th>4</th>\n",
       "      <td>Akkermansia</td>\n",
       "      <td>0.19</td>\n",
       "      <td>0.00</td>\n",
       "    </tr>\n",
       "    <tr>\n",
       "      <th>5</th>\n",
       "      <td>Alicyclobacillus</td>\n",
       "      <td>0.00</td>\n",
       "      <td>0.21</td>\n",
       "    </tr>\n",
       "    <tr>\n",
       "      <th>6</th>\n",
       "      <td>Alistipes</td>\n",
       "      <td>0.95</td>\n",
       "      <td>0.00</td>\n",
       "    </tr>\n",
       "    <tr>\n",
       "      <th>7</th>\n",
       "      <td>Anaerobutyricum</td>\n",
       "      <td>0.49</td>\n",
       "      <td>0.00</td>\n",
       "    </tr>\n",
       "    <tr>\n",
       "      <th>8</th>\n",
       "      <td>Anaerostipes</td>\n",
       "      <td>1.33</td>\n",
       "      <td>0.00</td>\n",
       "    </tr>\n",
       "    <tr>\n",
       "      <th>9</th>\n",
       "      <td>Bacteroides</td>\n",
       "      <td>4.72</td>\n",
       "      <td>0.00</td>\n",
       "    </tr>\n",
       "    <tr>\n",
       "      <th>10</th>\n",
       "      <td>Blautia</td>\n",
       "      <td>3.96</td>\n",
       "      <td>0.00</td>\n",
       "    </tr>\n",
       "    <tr>\n",
       "      <th>11</th>\n",
       "      <td>Bulleidia</td>\n",
       "      <td>0.19</td>\n",
       "      <td>0.00</td>\n",
       "    </tr>\n",
       "    <tr>\n",
       "      <th>12</th>\n",
       "      <td>Butyribacter</td>\n",
       "      <td>2.17</td>\n",
       "      <td>0.00</td>\n",
       "    </tr>\n",
       "    <tr>\n",
       "      <th>13</th>\n",
       "      <td>Butyricicoccus</td>\n",
       "      <td>2.47</td>\n",
       "      <td>0.00</td>\n",
       "    </tr>\n",
       "    <tr>\n",
       "      <th>14</th>\n",
       "      <td>CAG-115</td>\n",
       "      <td>0.49</td>\n",
       "      <td>0.00</td>\n",
       "    </tr>\n",
       "    <tr>\n",
       "      <th>15</th>\n",
       "      <td>CAG-177</td>\n",
       "      <td>0.65</td>\n",
       "      <td>0.00</td>\n",
       "    </tr>\n",
       "    <tr>\n",
       "      <th>16</th>\n",
       "      <td>CAG-217</td>\n",
       "      <td>0.38</td>\n",
       "      <td>0.00</td>\n",
       "    </tr>\n",
       "    <tr>\n",
       "      <th>17</th>\n",
       "      <td>CAG-41</td>\n",
       "      <td>2.63</td>\n",
       "      <td>0.00</td>\n",
       "    </tr>\n",
       "    <tr>\n",
       "      <th>18</th>\n",
       "      <td>CAG-83</td>\n",
       "      <td>2.51</td>\n",
       "      <td>0.00</td>\n",
       "    </tr>\n",
       "    <tr>\n",
       "      <th>19</th>\n",
       "      <td>CAG-841</td>\n",
       "      <td>0.11</td>\n",
       "      <td>0.00</td>\n",
       "    </tr>\n",
       "    <tr>\n",
       "      <th>20</th>\n",
       "      <td>Clostridium</td>\n",
       "      <td>4.15</td>\n",
       "      <td>0.00</td>\n",
       "    </tr>\n",
       "    <tr>\n",
       "      <th>21</th>\n",
       "      <td>Coprococcus</td>\n",
       "      <td>1.83</td>\n",
       "      <td>0.00</td>\n",
       "    </tr>\n",
       "    <tr>\n",
       "      <th>22</th>\n",
       "      <td>Copromonas</td>\n",
       "      <td>1.22</td>\n",
       "      <td>0.00</td>\n",
       "    </tr>\n",
       "    <tr>\n",
       "      <th>23</th>\n",
       "      <td>Cronobacter</td>\n",
       "      <td>0.11</td>\n",
       "      <td>0.00</td>\n",
       "    </tr>\n",
       "    <tr>\n",
       "      <th>24</th>\n",
       "      <td>Curtobacterium</td>\n",
       "      <td>0.00</td>\n",
       "      <td>4.70</td>\n",
       "    </tr>\n",
       "    <tr>\n",
       "      <th>25</th>\n",
       "      <td>Desconhecido</td>\n",
       "      <td>6.70</td>\n",
       "      <td>1.85</td>\n",
       "    </tr>\n",
       "    <tr>\n",
       "      <th>26</th>\n",
       "      <td>Dialister</td>\n",
       "      <td>0.27</td>\n",
       "      <td>0.00</td>\n",
       "    </tr>\n",
       "    <tr>\n",
       "      <th>27</th>\n",
       "      <td>Dorea</td>\n",
       "      <td>1.52</td>\n",
       "      <td>0.00</td>\n",
       "    </tr>\n",
       "    <tr>\n",
       "      <th>28</th>\n",
       "      <td>Duodenibacillus</td>\n",
       "      <td>0.34</td>\n",
       "      <td>0.00</td>\n",
       "    </tr>\n",
       "    <tr>\n",
       "      <th>29</th>\n",
       "      <td>Dysosmobacter</td>\n",
       "      <td>0.91</td>\n",
       "      <td>0.00</td>\n",
       "    </tr>\n",
       "    <tr>\n",
       "      <th>30</th>\n",
       "      <td>Ellagibacter</td>\n",
       "      <td>0.15</td>\n",
       "      <td>0.00</td>\n",
       "    </tr>\n",
       "    <tr>\n",
       "      <th>31</th>\n",
       "      <td>Eubacterium</td>\n",
       "      <td>0.42</td>\n",
       "      <td>0.00</td>\n",
       "    </tr>\n",
       "    <tr>\n",
       "      <th>32</th>\n",
       "      <td>Faecalibacterium</td>\n",
       "      <td>8.79</td>\n",
       "      <td>0.00</td>\n",
       "    </tr>\n",
       "    <tr>\n",
       "      <th>33</th>\n",
       "      <td>Fusicatenibacter</td>\n",
       "      <td>0.57</td>\n",
       "      <td>0.00</td>\n",
       "    </tr>\n",
       "    <tr>\n",
       "      <th>34</th>\n",
       "      <td>Geodermatophilus</td>\n",
       "      <td>0.00</td>\n",
       "      <td>0.89</td>\n",
       "    </tr>\n",
       "    <tr>\n",
       "      <th>35</th>\n",
       "      <td>Gryllotalpicola</td>\n",
       "      <td>0.00</td>\n",
       "      <td>10.97</td>\n",
       "    </tr>\n",
       "    <tr>\n",
       "      <th>36</th>\n",
       "      <td>Intestinibacter</td>\n",
       "      <td>1.41</td>\n",
       "      <td>0.00</td>\n",
       "    </tr>\n",
       "    <tr>\n",
       "      <th>37</th>\n",
       "      <td>JADGQX01</td>\n",
       "      <td>0.00</td>\n",
       "      <td>0.34</td>\n",
       "    </tr>\n",
       "    <tr>\n",
       "      <th>38</th>\n",
       "      <td>Lachnospira</td>\n",
       "      <td>0.53</td>\n",
       "      <td>0.00</td>\n",
       "    </tr>\n",
       "    <tr>\n",
       "      <th>39</th>\n",
       "      <td>Limivicinus</td>\n",
       "      <td>0.53</td>\n",
       "      <td>0.00</td>\n",
       "    </tr>\n",
       "    <tr>\n",
       "      <th>40</th>\n",
       "      <td>Merdicola</td>\n",
       "      <td>0.38</td>\n",
       "      <td>0.00</td>\n",
       "    </tr>\n",
       "    <tr>\n",
       "      <th>41</th>\n",
       "      <td>Methanobrevibacter</td>\n",
       "      <td>0.23</td>\n",
       "      <td>0.00</td>\n",
       "    </tr>\n",
       "    <tr>\n",
       "      <th>42</th>\n",
       "      <td>Methanosphaera</td>\n",
       "      <td>0.15</td>\n",
       "      <td>0.00</td>\n",
       "    </tr>\n",
       "    <tr>\n",
       "      <th>43</th>\n",
       "      <td>Methylophilus</td>\n",
       "      <td>0.00</td>\n",
       "      <td>0.55</td>\n",
       "    </tr>\n",
       "    <tr>\n",
       "      <th>44</th>\n",
       "      <td>Microlunatus</td>\n",
       "      <td>0.00</td>\n",
       "      <td>0.48</td>\n",
       "    </tr>\n",
       "    <tr>\n",
       "      <th>45</th>\n",
       "      <td>NSJ-50</td>\n",
       "      <td>0.30</td>\n",
       "      <td>0.00</td>\n",
       "    </tr>\n",
       "    <tr>\n",
       "      <th>46</th>\n",
       "      <td>Nocardia</td>\n",
       "      <td>0.00</td>\n",
       "      <td>1.23</td>\n",
       "    </tr>\n",
       "    <tr>\n",
       "      <th>47</th>\n",
       "      <td>Nocardioides</td>\n",
       "      <td>0.00</td>\n",
       "      <td>52.45</td>\n",
       "    </tr>\n",
       "    <tr>\n",
       "      <th>48</th>\n",
       "      <td>Odoribacter</td>\n",
       "      <td>0.11</td>\n",
       "      <td>0.00</td>\n",
       "    </tr>\n",
       "    <tr>\n",
       "      <th>49</th>\n",
       "      <td>Parabacteroides</td>\n",
       "      <td>0.61</td>\n",
       "      <td>0.00</td>\n",
       "    </tr>\n",
       "    <tr>\n",
       "      <th>50</th>\n",
       "      <td>Parasutterella</td>\n",
       "      <td>0.23</td>\n",
       "      <td>0.00</td>\n",
       "    </tr>\n",
       "    <tr>\n",
       "      <th>51</th>\n",
       "      <td>Parolsenella</td>\n",
       "      <td>0.15</td>\n",
       "      <td>0.00</td>\n",
       "    </tr>\n",
       "    <tr>\n",
       "      <th>52</th>\n",
       "      <td>Phocaeicola</td>\n",
       "      <td>7.12</td>\n",
       "      <td>0.00</td>\n",
       "    </tr>\n",
       "    <tr>\n",
       "      <th>53</th>\n",
       "      <td>Prevotella</td>\n",
       "      <td>8.30</td>\n",
       "      <td>0.00</td>\n",
       "    </tr>\n",
       "    <tr>\n",
       "      <th>54</th>\n",
       "      <td>Pseudoruminococcus</td>\n",
       "      <td>4.07</td>\n",
       "      <td>0.00</td>\n",
       "    </tr>\n",
       "    <tr>\n",
       "      <th>55</th>\n",
       "      <td>RUG115</td>\n",
       "      <td>3.39</td>\n",
       "      <td>0.00</td>\n",
       "    </tr>\n",
       "    <tr>\n",
       "      <th>56</th>\n",
       "      <td>Roseburia</td>\n",
       "      <td>2.40</td>\n",
       "      <td>0.00</td>\n",
       "    </tr>\n",
       "    <tr>\n",
       "      <th>57</th>\n",
       "      <td>Ruminiclostridium</td>\n",
       "      <td>6.81</td>\n",
       "      <td>0.00</td>\n",
       "    </tr>\n",
       "    <tr>\n",
       "      <th>58</th>\n",
       "      <td>Ruminococcus</td>\n",
       "      <td>0.46</td>\n",
       "      <td>0.00</td>\n",
       "    </tr>\n",
       "    <tr>\n",
       "      <th>59</th>\n",
       "      <td>SFJ001</td>\n",
       "      <td>0.34</td>\n",
       "      <td>0.00</td>\n",
       "    </tr>\n",
       "    <tr>\n",
       "      <th>60</th>\n",
       "      <td>Scatocola</td>\n",
       "      <td>0.23</td>\n",
       "      <td>0.00</td>\n",
       "    </tr>\n",
       "    <tr>\n",
       "      <th>61</th>\n",
       "      <td>Spirillospora</td>\n",
       "      <td>0.00</td>\n",
       "      <td>13.20</td>\n",
       "    </tr>\n",
       "    <tr>\n",
       "      <th>62</th>\n",
       "      <td>Streptomyces</td>\n",
       "      <td>0.00</td>\n",
       "      <td>0.65</td>\n",
       "    </tr>\n",
       "    <tr>\n",
       "      <th>63</th>\n",
       "      <td>Sulfobacillus</td>\n",
       "      <td>0.00</td>\n",
       "      <td>0.07</td>\n",
       "    </tr>\n",
       "    <tr>\n",
       "      <th>64</th>\n",
       "      <td>Trebonia</td>\n",
       "      <td>0.00</td>\n",
       "      <td>11.24</td>\n",
       "    </tr>\n",
       "    <tr>\n",
       "      <th>65</th>\n",
       "      <td>UBA11452</td>\n",
       "      <td>0.19</td>\n",
       "      <td>0.00</td>\n",
       "    </tr>\n",
       "    <tr>\n",
       "      <th>66</th>\n",
       "      <td>UBA11524</td>\n",
       "      <td>1.98</td>\n",
       "      <td>0.00</td>\n",
       "    </tr>\n",
       "    <tr>\n",
       "      <th>67</th>\n",
       "      <td>UBA1394</td>\n",
       "      <td>0.15</td>\n",
       "      <td>0.00</td>\n",
       "    </tr>\n",
       "    <tr>\n",
       "      <th>68</th>\n",
       "      <td>UBA1417</td>\n",
       "      <td>0.19</td>\n",
       "      <td>0.00</td>\n",
       "    </tr>\n",
       "    <tr>\n",
       "      <th>69</th>\n",
       "      <td>UBA1774</td>\n",
       "      <td>0.30</td>\n",
       "      <td>0.00</td>\n",
       "    </tr>\n",
       "    <tr>\n",
       "      <th>70</th>\n",
       "      <td>UBA3402</td>\n",
       "      <td>0.61</td>\n",
       "      <td>0.00</td>\n",
       "    </tr>\n",
       "    <tr>\n",
       "      <th>71</th>\n",
       "      <td>UBA7597</td>\n",
       "      <td>0.53</td>\n",
       "      <td>0.00</td>\n",
       "    </tr>\n",
       "    <tr>\n",
       "      <th>72</th>\n",
       "      <td>UMGS1375</td>\n",
       "      <td>0.42</td>\n",
       "      <td>0.00</td>\n",
       "    </tr>\n",
       "    <tr>\n",
       "      <th>73</th>\n",
       "      <td>UMGS882</td>\n",
       "      <td>1.22</td>\n",
       "      <td>0.00</td>\n",
       "    </tr>\n",
       "    <tr>\n",
       "      <th>74</th>\n",
       "      <td>Ventrimonas</td>\n",
       "      <td>0.76</td>\n",
       "      <td>0.00</td>\n",
       "    </tr>\n",
       "  </tbody>\n",
       "</table>\n",
       "</div>"
      ],
      "text/plain": [
       "                Genero  Amostra 1 (%)  Amostra 2 (%)\n",
       "0        Acetatifactor           0.80           0.00\n",
       "1      Actinopolyspora           0.00           1.17\n",
       "2         Agathobacter           3.35           0.00\n",
       "3        Agathobaculum           1.48           0.00\n",
       "4          Akkermansia           0.19           0.00\n",
       "5     Alicyclobacillus           0.00           0.21\n",
       "6            Alistipes           0.95           0.00\n",
       "7      Anaerobutyricum           0.49           0.00\n",
       "8         Anaerostipes           1.33           0.00\n",
       "9          Bacteroides           4.72           0.00\n",
       "10             Blautia           3.96           0.00\n",
       "11           Bulleidia           0.19           0.00\n",
       "12        Butyribacter           2.17           0.00\n",
       "13      Butyricicoccus           2.47           0.00\n",
       "14             CAG-115           0.49           0.00\n",
       "15             CAG-177           0.65           0.00\n",
       "16             CAG-217           0.38           0.00\n",
       "17              CAG-41           2.63           0.00\n",
       "18              CAG-83           2.51           0.00\n",
       "19             CAG-841           0.11           0.00\n",
       "20         Clostridium           4.15           0.00\n",
       "21         Coprococcus           1.83           0.00\n",
       "22          Copromonas           1.22           0.00\n",
       "23         Cronobacter           0.11           0.00\n",
       "24      Curtobacterium           0.00           4.70\n",
       "25        Desconhecido           6.70           1.85\n",
       "26           Dialister           0.27           0.00\n",
       "27               Dorea           1.52           0.00\n",
       "28     Duodenibacillus           0.34           0.00\n",
       "29       Dysosmobacter           0.91           0.00\n",
       "30        Ellagibacter           0.15           0.00\n",
       "31         Eubacterium           0.42           0.00\n",
       "32    Faecalibacterium           8.79           0.00\n",
       "33    Fusicatenibacter           0.57           0.00\n",
       "34    Geodermatophilus           0.00           0.89\n",
       "35     Gryllotalpicola           0.00          10.97\n",
       "36     Intestinibacter           1.41           0.00\n",
       "37            JADGQX01           0.00           0.34\n",
       "38         Lachnospira           0.53           0.00\n",
       "39         Limivicinus           0.53           0.00\n",
       "40           Merdicola           0.38           0.00\n",
       "41  Methanobrevibacter           0.23           0.00\n",
       "42      Methanosphaera           0.15           0.00\n",
       "43       Methylophilus           0.00           0.55\n",
       "44        Microlunatus           0.00           0.48\n",
       "45              NSJ-50           0.30           0.00\n",
       "46            Nocardia           0.00           1.23\n",
       "47        Nocardioides           0.00          52.45\n",
       "48         Odoribacter           0.11           0.00\n",
       "49     Parabacteroides           0.61           0.00\n",
       "50      Parasutterella           0.23           0.00\n",
       "51        Parolsenella           0.15           0.00\n",
       "52         Phocaeicola           7.12           0.00\n",
       "53          Prevotella           8.30           0.00\n",
       "54  Pseudoruminococcus           4.07           0.00\n",
       "55              RUG115           3.39           0.00\n",
       "56           Roseburia           2.40           0.00\n",
       "57   Ruminiclostridium           6.81           0.00\n",
       "58        Ruminococcus           0.46           0.00\n",
       "59              SFJ001           0.34           0.00\n",
       "60           Scatocola           0.23           0.00\n",
       "61       Spirillospora           0.00          13.20\n",
       "62        Streptomyces           0.00           0.65\n",
       "63       Sulfobacillus           0.00           0.07\n",
       "64            Trebonia           0.00          11.24\n",
       "65            UBA11452           0.19           0.00\n",
       "66            UBA11524           1.98           0.00\n",
       "67             UBA1394           0.15           0.00\n",
       "68             UBA1417           0.19           0.00\n",
       "69             UBA1774           0.30           0.00\n",
       "70             UBA3402           0.61           0.00\n",
       "71             UBA7597           0.53           0.00\n",
       "72            UMGS1375           0.42           0.00\n",
       "73             UMGS882           1.22           0.00\n",
       "74         Ventrimonas           0.76           0.00"
      ]
     },
     "execution_count": 10,
     "metadata": {},
     "output_type": "execute_result"
    }
   ],
   "source": [
    "genero_abundancia_relativa = (genero_abundancia.div(genero_abundancia.sum()) * 100).round(2)\n",
    "genero_abundancia_relativa.columns = [\"Amostra 1 (%)\", \"Amostra 2 (%)\"]\n",
    "genero_abundancia_relativa = genero_abundancia_relativa.reset_index() \n",
    "\n",
    "pd.set_option('display.max_rows', None) #OBS. Esse comando permite desabilitar o número máximo de linhas mostradas\n",
    "genero_abundancia_relativa\n"
   ]
  },
  {
   "cell_type": "markdown",
   "metadata": {},
   "source": [
    "Criação de uma pasta para os resultados"
   ]
  },
  {
   "cell_type": "code",
   "execution_count": 13,
   "metadata": {},
   "outputs": [],
   "source": [
    "os.makedirs(\"./resultados\", exist_ok=True)"
   ]
  },
  {
   "cell_type": "markdown",
   "metadata": {},
   "source": [
    "A tabela foi salva em \"genero_abundancia_relativa.tsv\""
   ]
  },
  {
   "cell_type": "code",
   "execution_count": 14,
   "metadata": {},
   "outputs": [],
   "source": [
    "genero_abundancia_relativa.to_csv(\"./resultados/genero_abundancia_relativa.tsv\", sep=\"\\t\", index=False)"
   ]
  },
  {
   "cell_type": "markdown",
   "metadata": {},
   "source": [
    "## ---"
   ]
  },
  {
   "cell_type": "markdown",
   "metadata": {},
   "source": [
    "# 3. Elaboração de visualizações gráficas"
   ]
  },
  {
   "cell_type": "markdown",
   "metadata": {},
   "source": [
    "## Gráfico de Barras Empilhadas"
   ]
  },
  {
   "cell_type": "markdown",
   "metadata": {},
   "source": [
    "O seguinte código abaixo busca desenvolver um gráfico de barras empilhadas considerando o gênero e a abundância relativa calculada anteriormente para cada uma das amostras. Optei por fazer um gráfico interativo para melhor visualização de cada gênero e sua respectiva abundância de forma individual.\n",
    "\n",
    "Caso seja do interesse salvar de forma não interativa, basta não comentar a última linha de código"
   ]
  },
  {
   "cell_type": "code",
   "execution_count": 15,
   "metadata": {},
   "outputs": [
    {
     "data": {
      "application/vnd.plotly.v1+json": {
       "config": {
        "plotlyServerURL": "https://plot.ly"
       },
       "data": [
        {
         "hoverlabel": {
          "namelength": 0
         },
         "hovertemplate": "<b>%{x}</b><br>Gênero: Acetatifactor<br>Abundância Relativa: %{y:.2f}%",
         "marker": {
          "color": "#636EFA",
          "line": {
           "color": "black",
           "width": 0.7
          }
         },
         "name": "Acetatifactor",
         "type": "bar",
         "x": [
          "Amostra 01",
          "Amostra 02"
         ],
         "y": [
          0.8,
          0
         ]
        },
        {
         "hoverlabel": {
          "namelength": 0
         },
         "hovertemplate": "<b>%{x}</b><br>Gênero: Actinopolyspora<br>Abundância Relativa: %{y:.2f}%",
         "marker": {
          "color": "#EF553B",
          "line": {
           "color": "black",
           "width": 0.7
          }
         },
         "name": "Actinopolyspora",
         "type": "bar",
         "x": [
          "Amostra 01",
          "Amostra 02"
         ],
         "y": [
          0,
          1.17
         ]
        },
        {
         "hoverlabel": {
          "namelength": 0
         },
         "hovertemplate": "<b>%{x}</b><br>Gênero: Agathobacter<br>Abundância Relativa: %{y:.2f}%",
         "marker": {
          "color": "#00CC96",
          "line": {
           "color": "black",
           "width": 0.7
          }
         },
         "name": "Agathobacter",
         "type": "bar",
         "x": [
          "Amostra 01",
          "Amostra 02"
         ],
         "y": [
          3.35,
          0
         ]
        },
        {
         "hoverlabel": {
          "namelength": 0
         },
         "hovertemplate": "<b>%{x}</b><br>Gênero: Agathobaculum<br>Abundância Relativa: %{y:.2f}%",
         "marker": {
          "color": "#AB63FA",
          "line": {
           "color": "black",
           "width": 0.7
          }
         },
         "name": "Agathobaculum",
         "type": "bar",
         "x": [
          "Amostra 01",
          "Amostra 02"
         ],
         "y": [
          1.48,
          0
         ]
        },
        {
         "hoverlabel": {
          "namelength": 0
         },
         "hovertemplate": "<b>%{x}</b><br>Gênero: Akkermansia<br>Abundância Relativa: %{y:.2f}%",
         "marker": {
          "color": "#FFA15A",
          "line": {
           "color": "black",
           "width": 0.7
          }
         },
         "name": "Akkermansia",
         "type": "bar",
         "x": [
          "Amostra 01",
          "Amostra 02"
         ],
         "y": [
          0.19,
          0
         ]
        },
        {
         "hoverlabel": {
          "namelength": 0
         },
         "hovertemplate": "<b>%{x}</b><br>Gênero: Alicyclobacillus<br>Abundância Relativa: %{y:.2f}%",
         "marker": {
          "color": "#19D3F3",
          "line": {
           "color": "black",
           "width": 0.7
          }
         },
         "name": "Alicyclobacillus",
         "type": "bar",
         "x": [
          "Amostra 01",
          "Amostra 02"
         ],
         "y": [
          0,
          0.21
         ]
        },
        {
         "hoverlabel": {
          "namelength": 0
         },
         "hovertemplate": "<b>%{x}</b><br>Gênero: Alistipes<br>Abundância Relativa: %{y:.2f}%",
         "marker": {
          "color": "#FF6692",
          "line": {
           "color": "black",
           "width": 0.7
          }
         },
         "name": "Alistipes",
         "type": "bar",
         "x": [
          "Amostra 01",
          "Amostra 02"
         ],
         "y": [
          0.95,
          0
         ]
        },
        {
         "hoverlabel": {
          "namelength": 0
         },
         "hovertemplate": "<b>%{x}</b><br>Gênero: Anaerobutyricum<br>Abundância Relativa: %{y:.2f}%",
         "marker": {
          "color": "#B6E880",
          "line": {
           "color": "black",
           "width": 0.7
          }
         },
         "name": "Anaerobutyricum",
         "type": "bar",
         "x": [
          "Amostra 01",
          "Amostra 02"
         ],
         "y": [
          0.49,
          0
         ]
        },
        {
         "hoverlabel": {
          "namelength": 0
         },
         "hovertemplate": "<b>%{x}</b><br>Gênero: Anaerostipes<br>Abundância Relativa: %{y:.2f}%",
         "marker": {
          "color": "#FF97FF",
          "line": {
           "color": "black",
           "width": 0.7
          }
         },
         "name": "Anaerostipes",
         "type": "bar",
         "x": [
          "Amostra 01",
          "Amostra 02"
         ],
         "y": [
          1.33,
          0
         ]
        },
        {
         "hoverlabel": {
          "namelength": 0
         },
         "hovertemplate": "<b>%{x}</b><br>Gênero: Bacteroides<br>Abundância Relativa: %{y:.2f}%",
         "marker": {
          "color": "#FECB52",
          "line": {
           "color": "black",
           "width": 0.7
          }
         },
         "name": "Bacteroides",
         "type": "bar",
         "x": [
          "Amostra 01",
          "Amostra 02"
         ],
         "y": [
          4.72,
          0
         ]
        },
        {
         "hoverlabel": {
          "namelength": 0
         },
         "hovertemplate": "<b>%{x}</b><br>Gênero: Blautia<br>Abundância Relativa: %{y:.2f}%",
         "marker": {
          "color": "#636EFA",
          "line": {
           "color": "black",
           "width": 0.7
          }
         },
         "name": "Blautia",
         "type": "bar",
         "x": [
          "Amostra 01",
          "Amostra 02"
         ],
         "y": [
          3.96,
          0
         ]
        },
        {
         "hoverlabel": {
          "namelength": 0
         },
         "hovertemplate": "<b>%{x}</b><br>Gênero: Bulleidia<br>Abundância Relativa: %{y:.2f}%",
         "marker": {
          "color": "#EF553B",
          "line": {
           "color": "black",
           "width": 0.7
          }
         },
         "name": "Bulleidia",
         "type": "bar",
         "x": [
          "Amostra 01",
          "Amostra 02"
         ],
         "y": [
          0.19,
          0
         ]
        },
        {
         "hoverlabel": {
          "namelength": 0
         },
         "hovertemplate": "<b>%{x}</b><br>Gênero: Butyribacter<br>Abundância Relativa: %{y:.2f}%",
         "marker": {
          "color": "#00CC96",
          "line": {
           "color": "black",
           "width": 0.7
          }
         },
         "name": "Butyribacter",
         "type": "bar",
         "x": [
          "Amostra 01",
          "Amostra 02"
         ],
         "y": [
          2.17,
          0
         ]
        },
        {
         "hoverlabel": {
          "namelength": 0
         },
         "hovertemplate": "<b>%{x}</b><br>Gênero: Butyricicoccus<br>Abundância Relativa: %{y:.2f}%",
         "marker": {
          "color": "#AB63FA",
          "line": {
           "color": "black",
           "width": 0.7
          }
         },
         "name": "Butyricicoccus",
         "type": "bar",
         "x": [
          "Amostra 01",
          "Amostra 02"
         ],
         "y": [
          2.47,
          0
         ]
        },
        {
         "hoverlabel": {
          "namelength": 0
         },
         "hovertemplate": "<b>%{x}</b><br>Gênero: CAG-115<br>Abundância Relativa: %{y:.2f}%",
         "marker": {
          "color": "#FFA15A",
          "line": {
           "color": "black",
           "width": 0.7
          }
         },
         "name": "CAG-115",
         "type": "bar",
         "x": [
          "Amostra 01",
          "Amostra 02"
         ],
         "y": [
          0.49,
          0
         ]
        },
        {
         "hoverlabel": {
          "namelength": 0
         },
         "hovertemplate": "<b>%{x}</b><br>Gênero: CAG-177<br>Abundância Relativa: %{y:.2f}%",
         "marker": {
          "color": "#19D3F3",
          "line": {
           "color": "black",
           "width": 0.7
          }
         },
         "name": "CAG-177",
         "type": "bar",
         "x": [
          "Amostra 01",
          "Amostra 02"
         ],
         "y": [
          0.65,
          0
         ]
        },
        {
         "hoverlabel": {
          "namelength": 0
         },
         "hovertemplate": "<b>%{x}</b><br>Gênero: CAG-217<br>Abundância Relativa: %{y:.2f}%",
         "marker": {
          "color": "#FF6692",
          "line": {
           "color": "black",
           "width": 0.7
          }
         },
         "name": "CAG-217",
         "type": "bar",
         "x": [
          "Amostra 01",
          "Amostra 02"
         ],
         "y": [
          0.38,
          0
         ]
        },
        {
         "hoverlabel": {
          "namelength": 0
         },
         "hovertemplate": "<b>%{x}</b><br>Gênero: CAG-41<br>Abundância Relativa: %{y:.2f}%",
         "marker": {
          "color": "#B6E880",
          "line": {
           "color": "black",
           "width": 0.7
          }
         },
         "name": "CAG-41",
         "type": "bar",
         "x": [
          "Amostra 01",
          "Amostra 02"
         ],
         "y": [
          2.63,
          0
         ]
        },
        {
         "hoverlabel": {
          "namelength": 0
         },
         "hovertemplate": "<b>%{x}</b><br>Gênero: CAG-83<br>Abundância Relativa: %{y:.2f}%",
         "marker": {
          "color": "#FF97FF",
          "line": {
           "color": "black",
           "width": 0.7
          }
         },
         "name": "CAG-83",
         "type": "bar",
         "x": [
          "Amostra 01",
          "Amostra 02"
         ],
         "y": [
          2.51,
          0
         ]
        },
        {
         "hoverlabel": {
          "namelength": 0
         },
         "hovertemplate": "<b>%{x}</b><br>Gênero: CAG-841<br>Abundância Relativa: %{y:.2f}%",
         "marker": {
          "color": "#FECB52",
          "line": {
           "color": "black",
           "width": 0.7
          }
         },
         "name": "CAG-841",
         "type": "bar",
         "x": [
          "Amostra 01",
          "Amostra 02"
         ],
         "y": [
          0.11,
          0
         ]
        },
        {
         "hoverlabel": {
          "namelength": 0
         },
         "hovertemplate": "<b>%{x}</b><br>Gênero: Clostridium<br>Abundância Relativa: %{y:.2f}%",
         "marker": {
          "color": "#636EFA",
          "line": {
           "color": "black",
           "width": 0.7
          }
         },
         "name": "Clostridium",
         "type": "bar",
         "x": [
          "Amostra 01",
          "Amostra 02"
         ],
         "y": [
          4.15,
          0
         ]
        },
        {
         "hoverlabel": {
          "namelength": 0
         },
         "hovertemplate": "<b>%{x}</b><br>Gênero: Coprococcus<br>Abundância Relativa: %{y:.2f}%",
         "marker": {
          "color": "#EF553B",
          "line": {
           "color": "black",
           "width": 0.7
          }
         },
         "name": "Coprococcus",
         "type": "bar",
         "x": [
          "Amostra 01",
          "Amostra 02"
         ],
         "y": [
          1.83,
          0
         ]
        },
        {
         "hoverlabel": {
          "namelength": 0
         },
         "hovertemplate": "<b>%{x}</b><br>Gênero: Copromonas<br>Abundância Relativa: %{y:.2f}%",
         "marker": {
          "color": "#00CC96",
          "line": {
           "color": "black",
           "width": 0.7
          }
         },
         "name": "Copromonas",
         "type": "bar",
         "x": [
          "Amostra 01",
          "Amostra 02"
         ],
         "y": [
          1.22,
          0
         ]
        },
        {
         "hoverlabel": {
          "namelength": 0
         },
         "hovertemplate": "<b>%{x}</b><br>Gênero: Cronobacter<br>Abundância Relativa: %{y:.2f}%",
         "marker": {
          "color": "#AB63FA",
          "line": {
           "color": "black",
           "width": 0.7
          }
         },
         "name": "Cronobacter",
         "type": "bar",
         "x": [
          "Amostra 01",
          "Amostra 02"
         ],
         "y": [
          0.11,
          0
         ]
        },
        {
         "hoverlabel": {
          "namelength": 0
         },
         "hovertemplate": "<b>%{x}</b><br>Gênero: Curtobacterium<br>Abundância Relativa: %{y:.2f}%",
         "marker": {
          "color": "#FFA15A",
          "line": {
           "color": "black",
           "width": 0.7
          }
         },
         "name": "Curtobacterium",
         "type": "bar",
         "x": [
          "Amostra 01",
          "Amostra 02"
         ],
         "y": [
          0,
          4.7
         ]
        },
        {
         "hoverlabel": {
          "namelength": 0
         },
         "hovertemplate": "<b>%{x}</b><br>Gênero: Desconhecido<br>Abundância Relativa: %{y:.2f}%",
         "marker": {
          "color": "#19D3F3",
          "line": {
           "color": "black",
           "width": 0.7
          }
         },
         "name": "Desconhecido",
         "type": "bar",
         "x": [
          "Amostra 01",
          "Amostra 02"
         ],
         "y": [
          6.7,
          1.85
         ]
        },
        {
         "hoverlabel": {
          "namelength": 0
         },
         "hovertemplate": "<b>%{x}</b><br>Gênero: Dialister<br>Abundância Relativa: %{y:.2f}%",
         "marker": {
          "color": "#FF6692",
          "line": {
           "color": "black",
           "width": 0.7
          }
         },
         "name": "Dialister",
         "type": "bar",
         "x": [
          "Amostra 01",
          "Amostra 02"
         ],
         "y": [
          0.27,
          0
         ]
        },
        {
         "hoverlabel": {
          "namelength": 0
         },
         "hovertemplate": "<b>%{x}</b><br>Gênero: Dorea<br>Abundância Relativa: %{y:.2f}%",
         "marker": {
          "color": "#B6E880",
          "line": {
           "color": "black",
           "width": 0.7
          }
         },
         "name": "Dorea",
         "type": "bar",
         "x": [
          "Amostra 01",
          "Amostra 02"
         ],
         "y": [
          1.52,
          0
         ]
        },
        {
         "hoverlabel": {
          "namelength": 0
         },
         "hovertemplate": "<b>%{x}</b><br>Gênero: Duodenibacillus<br>Abundância Relativa: %{y:.2f}%",
         "marker": {
          "color": "#FF97FF",
          "line": {
           "color": "black",
           "width": 0.7
          }
         },
         "name": "Duodenibacillus",
         "type": "bar",
         "x": [
          "Amostra 01",
          "Amostra 02"
         ],
         "y": [
          0.34,
          0
         ]
        },
        {
         "hoverlabel": {
          "namelength": 0
         },
         "hovertemplate": "<b>%{x}</b><br>Gênero: Dysosmobacter<br>Abundância Relativa: %{y:.2f}%",
         "marker": {
          "color": "#FECB52",
          "line": {
           "color": "black",
           "width": 0.7
          }
         },
         "name": "Dysosmobacter",
         "type": "bar",
         "x": [
          "Amostra 01",
          "Amostra 02"
         ],
         "y": [
          0.91,
          0
         ]
        },
        {
         "hoverlabel": {
          "namelength": 0
         },
         "hovertemplate": "<b>%{x}</b><br>Gênero: Ellagibacter<br>Abundância Relativa: %{y:.2f}%",
         "marker": {
          "color": "#636EFA",
          "line": {
           "color": "black",
           "width": 0.7
          }
         },
         "name": "Ellagibacter",
         "type": "bar",
         "x": [
          "Amostra 01",
          "Amostra 02"
         ],
         "y": [
          0.15,
          0
         ]
        },
        {
         "hoverlabel": {
          "namelength": 0
         },
         "hovertemplate": "<b>%{x}</b><br>Gênero: Eubacterium<br>Abundância Relativa: %{y:.2f}%",
         "marker": {
          "color": "#EF553B",
          "line": {
           "color": "black",
           "width": 0.7
          }
         },
         "name": "Eubacterium",
         "type": "bar",
         "x": [
          "Amostra 01",
          "Amostra 02"
         ],
         "y": [
          0.42,
          0
         ]
        },
        {
         "hoverlabel": {
          "namelength": 0
         },
         "hovertemplate": "<b>%{x}</b><br>Gênero: Faecalibacterium<br>Abundância Relativa: %{y:.2f}%",
         "marker": {
          "color": "#00CC96",
          "line": {
           "color": "black",
           "width": 0.7
          }
         },
         "name": "Faecalibacterium",
         "type": "bar",
         "x": [
          "Amostra 01",
          "Amostra 02"
         ],
         "y": [
          8.79,
          0
         ]
        },
        {
         "hoverlabel": {
          "namelength": 0
         },
         "hovertemplate": "<b>%{x}</b><br>Gênero: Fusicatenibacter<br>Abundância Relativa: %{y:.2f}%",
         "marker": {
          "color": "#AB63FA",
          "line": {
           "color": "black",
           "width": 0.7
          }
         },
         "name": "Fusicatenibacter",
         "type": "bar",
         "x": [
          "Amostra 01",
          "Amostra 02"
         ],
         "y": [
          0.57,
          0
         ]
        },
        {
         "hoverlabel": {
          "namelength": 0
         },
         "hovertemplate": "<b>%{x}</b><br>Gênero: Geodermatophilus<br>Abundância Relativa: %{y:.2f}%",
         "marker": {
          "color": "#FFA15A",
          "line": {
           "color": "black",
           "width": 0.7
          }
         },
         "name": "Geodermatophilus",
         "type": "bar",
         "x": [
          "Amostra 01",
          "Amostra 02"
         ],
         "y": [
          0,
          0.89
         ]
        },
        {
         "hoverlabel": {
          "namelength": 0
         },
         "hovertemplate": "<b>%{x}</b><br>Gênero: Gryllotalpicola<br>Abundância Relativa: %{y:.2f}%",
         "marker": {
          "color": "#19D3F3",
          "line": {
           "color": "black",
           "width": 0.7
          }
         },
         "name": "Gryllotalpicola",
         "type": "bar",
         "x": [
          "Amostra 01",
          "Amostra 02"
         ],
         "y": [
          0,
          10.97
         ]
        },
        {
         "hoverlabel": {
          "namelength": 0
         },
         "hovertemplate": "<b>%{x}</b><br>Gênero: Intestinibacter<br>Abundância Relativa: %{y:.2f}%",
         "marker": {
          "color": "#FF6692",
          "line": {
           "color": "black",
           "width": 0.7
          }
         },
         "name": "Intestinibacter",
         "type": "bar",
         "x": [
          "Amostra 01",
          "Amostra 02"
         ],
         "y": [
          1.41,
          0
         ]
        },
        {
         "hoverlabel": {
          "namelength": 0
         },
         "hovertemplate": "<b>%{x}</b><br>Gênero: JADGQX01<br>Abundância Relativa: %{y:.2f}%",
         "marker": {
          "color": "#B6E880",
          "line": {
           "color": "black",
           "width": 0.7
          }
         },
         "name": "JADGQX01",
         "type": "bar",
         "x": [
          "Amostra 01",
          "Amostra 02"
         ],
         "y": [
          0,
          0.34
         ]
        },
        {
         "hoverlabel": {
          "namelength": 0
         },
         "hovertemplate": "<b>%{x}</b><br>Gênero: Lachnospira<br>Abundância Relativa: %{y:.2f}%",
         "marker": {
          "color": "#FF97FF",
          "line": {
           "color": "black",
           "width": 0.7
          }
         },
         "name": "Lachnospira",
         "type": "bar",
         "x": [
          "Amostra 01",
          "Amostra 02"
         ],
         "y": [
          0.53,
          0
         ]
        },
        {
         "hoverlabel": {
          "namelength": 0
         },
         "hovertemplate": "<b>%{x}</b><br>Gênero: Limivicinus<br>Abundância Relativa: %{y:.2f}%",
         "marker": {
          "color": "#FECB52",
          "line": {
           "color": "black",
           "width": 0.7
          }
         },
         "name": "Limivicinus",
         "type": "bar",
         "x": [
          "Amostra 01",
          "Amostra 02"
         ],
         "y": [
          0.53,
          0
         ]
        },
        {
         "hoverlabel": {
          "namelength": 0
         },
         "hovertemplate": "<b>%{x}</b><br>Gênero: Merdicola<br>Abundância Relativa: %{y:.2f}%",
         "marker": {
          "color": "#636EFA",
          "line": {
           "color": "black",
           "width": 0.7
          }
         },
         "name": "Merdicola",
         "type": "bar",
         "x": [
          "Amostra 01",
          "Amostra 02"
         ],
         "y": [
          0.38,
          0
         ]
        },
        {
         "hoverlabel": {
          "namelength": 0
         },
         "hovertemplate": "<b>%{x}</b><br>Gênero: Methanobrevibacter<br>Abundância Relativa: %{y:.2f}%",
         "marker": {
          "color": "#EF553B",
          "line": {
           "color": "black",
           "width": 0.7
          }
         },
         "name": "Methanobrevibacter",
         "type": "bar",
         "x": [
          "Amostra 01",
          "Amostra 02"
         ],
         "y": [
          0.23,
          0
         ]
        },
        {
         "hoverlabel": {
          "namelength": 0
         },
         "hovertemplate": "<b>%{x}</b><br>Gênero: Methanosphaera<br>Abundância Relativa: %{y:.2f}%",
         "marker": {
          "color": "#00CC96",
          "line": {
           "color": "black",
           "width": 0.7
          }
         },
         "name": "Methanosphaera",
         "type": "bar",
         "x": [
          "Amostra 01",
          "Amostra 02"
         ],
         "y": [
          0.15,
          0
         ]
        },
        {
         "hoverlabel": {
          "namelength": 0
         },
         "hovertemplate": "<b>%{x}</b><br>Gênero: Methylophilus<br>Abundância Relativa: %{y:.2f}%",
         "marker": {
          "color": "#AB63FA",
          "line": {
           "color": "black",
           "width": 0.7
          }
         },
         "name": "Methylophilus",
         "type": "bar",
         "x": [
          "Amostra 01",
          "Amostra 02"
         ],
         "y": [
          0,
          0.55
         ]
        },
        {
         "hoverlabel": {
          "namelength": 0
         },
         "hovertemplate": "<b>%{x}</b><br>Gênero: Microlunatus<br>Abundância Relativa: %{y:.2f}%",
         "marker": {
          "color": "#FFA15A",
          "line": {
           "color": "black",
           "width": 0.7
          }
         },
         "name": "Microlunatus",
         "type": "bar",
         "x": [
          "Amostra 01",
          "Amostra 02"
         ],
         "y": [
          0,
          0.48
         ]
        },
        {
         "hoverlabel": {
          "namelength": 0
         },
         "hovertemplate": "<b>%{x}</b><br>Gênero: NSJ-50<br>Abundância Relativa: %{y:.2f}%",
         "marker": {
          "color": "#19D3F3",
          "line": {
           "color": "black",
           "width": 0.7
          }
         },
         "name": "NSJ-50",
         "type": "bar",
         "x": [
          "Amostra 01",
          "Amostra 02"
         ],
         "y": [
          0.3,
          0
         ]
        },
        {
         "hoverlabel": {
          "namelength": 0
         },
         "hovertemplate": "<b>%{x}</b><br>Gênero: Nocardia<br>Abundância Relativa: %{y:.2f}%",
         "marker": {
          "color": "#FF6692",
          "line": {
           "color": "black",
           "width": 0.7
          }
         },
         "name": "Nocardia",
         "type": "bar",
         "x": [
          "Amostra 01",
          "Amostra 02"
         ],
         "y": [
          0,
          1.23
         ]
        },
        {
         "hoverlabel": {
          "namelength": 0
         },
         "hovertemplate": "<b>%{x}</b><br>Gênero: Nocardioides<br>Abundância Relativa: %{y:.2f}%",
         "marker": {
          "color": "#B6E880",
          "line": {
           "color": "black",
           "width": 0.7
          }
         },
         "name": "Nocardioides",
         "type": "bar",
         "x": [
          "Amostra 01",
          "Amostra 02"
         ],
         "y": [
          0,
          52.45
         ]
        },
        {
         "hoverlabel": {
          "namelength": 0
         },
         "hovertemplate": "<b>%{x}</b><br>Gênero: Odoribacter<br>Abundância Relativa: %{y:.2f}%",
         "marker": {
          "color": "#FF97FF",
          "line": {
           "color": "black",
           "width": 0.7
          }
         },
         "name": "Odoribacter",
         "type": "bar",
         "x": [
          "Amostra 01",
          "Amostra 02"
         ],
         "y": [
          0.11,
          0
         ]
        },
        {
         "hoverlabel": {
          "namelength": 0
         },
         "hovertemplate": "<b>%{x}</b><br>Gênero: Parabacteroides<br>Abundância Relativa: %{y:.2f}%",
         "marker": {
          "color": "#FECB52",
          "line": {
           "color": "black",
           "width": 0.7
          }
         },
         "name": "Parabacteroides",
         "type": "bar",
         "x": [
          "Amostra 01",
          "Amostra 02"
         ],
         "y": [
          0.61,
          0
         ]
        },
        {
         "hoverlabel": {
          "namelength": 0
         },
         "hovertemplate": "<b>%{x}</b><br>Gênero: Parasutterella<br>Abundância Relativa: %{y:.2f}%",
         "marker": {
          "color": "#636EFA",
          "line": {
           "color": "black",
           "width": 0.7
          }
         },
         "name": "Parasutterella",
         "type": "bar",
         "x": [
          "Amostra 01",
          "Amostra 02"
         ],
         "y": [
          0.23,
          0
         ]
        },
        {
         "hoverlabel": {
          "namelength": 0
         },
         "hovertemplate": "<b>%{x}</b><br>Gênero: Parolsenella<br>Abundância Relativa: %{y:.2f}%",
         "marker": {
          "color": "#EF553B",
          "line": {
           "color": "black",
           "width": 0.7
          }
         },
         "name": "Parolsenella",
         "type": "bar",
         "x": [
          "Amostra 01",
          "Amostra 02"
         ],
         "y": [
          0.15,
          0
         ]
        },
        {
         "hoverlabel": {
          "namelength": 0
         },
         "hovertemplate": "<b>%{x}</b><br>Gênero: Phocaeicola<br>Abundância Relativa: %{y:.2f}%",
         "marker": {
          "color": "#00CC96",
          "line": {
           "color": "black",
           "width": 0.7
          }
         },
         "name": "Phocaeicola",
         "type": "bar",
         "x": [
          "Amostra 01",
          "Amostra 02"
         ],
         "y": [
          7.12,
          0
         ]
        },
        {
         "hoverlabel": {
          "namelength": 0
         },
         "hovertemplate": "<b>%{x}</b><br>Gênero: Prevotella<br>Abundância Relativa: %{y:.2f}%",
         "marker": {
          "color": "#AB63FA",
          "line": {
           "color": "black",
           "width": 0.7
          }
         },
         "name": "Prevotella",
         "type": "bar",
         "x": [
          "Amostra 01",
          "Amostra 02"
         ],
         "y": [
          8.3,
          0
         ]
        },
        {
         "hoverlabel": {
          "namelength": 0
         },
         "hovertemplate": "<b>%{x}</b><br>Gênero: Pseudoruminococcus<br>Abundância Relativa: %{y:.2f}%",
         "marker": {
          "color": "#FFA15A",
          "line": {
           "color": "black",
           "width": 0.7
          }
         },
         "name": "Pseudoruminococcus",
         "type": "bar",
         "x": [
          "Amostra 01",
          "Amostra 02"
         ],
         "y": [
          4.07,
          0
         ]
        },
        {
         "hoverlabel": {
          "namelength": 0
         },
         "hovertemplate": "<b>%{x}</b><br>Gênero: RUG115<br>Abundância Relativa: %{y:.2f}%",
         "marker": {
          "color": "#19D3F3",
          "line": {
           "color": "black",
           "width": 0.7
          }
         },
         "name": "RUG115",
         "type": "bar",
         "x": [
          "Amostra 01",
          "Amostra 02"
         ],
         "y": [
          3.39,
          0
         ]
        },
        {
         "hoverlabel": {
          "namelength": 0
         },
         "hovertemplate": "<b>%{x}</b><br>Gênero: Roseburia<br>Abundância Relativa: %{y:.2f}%",
         "marker": {
          "color": "#FF6692",
          "line": {
           "color": "black",
           "width": 0.7
          }
         },
         "name": "Roseburia",
         "type": "bar",
         "x": [
          "Amostra 01",
          "Amostra 02"
         ],
         "y": [
          2.4,
          0
         ]
        },
        {
         "hoverlabel": {
          "namelength": 0
         },
         "hovertemplate": "<b>%{x}</b><br>Gênero: Ruminiclostridium<br>Abundância Relativa: %{y:.2f}%",
         "marker": {
          "color": "#B6E880",
          "line": {
           "color": "black",
           "width": 0.7
          }
         },
         "name": "Ruminiclostridium",
         "type": "bar",
         "x": [
          "Amostra 01",
          "Amostra 02"
         ],
         "y": [
          6.81,
          0
         ]
        },
        {
         "hoverlabel": {
          "namelength": 0
         },
         "hovertemplate": "<b>%{x}</b><br>Gênero: Ruminococcus<br>Abundância Relativa: %{y:.2f}%",
         "marker": {
          "color": "#FF97FF",
          "line": {
           "color": "black",
           "width": 0.7
          }
         },
         "name": "Ruminococcus",
         "type": "bar",
         "x": [
          "Amostra 01",
          "Amostra 02"
         ],
         "y": [
          0.46,
          0
         ]
        },
        {
         "hoverlabel": {
          "namelength": 0
         },
         "hovertemplate": "<b>%{x}</b><br>Gênero: SFJ001<br>Abundância Relativa: %{y:.2f}%",
         "marker": {
          "color": "#FECB52",
          "line": {
           "color": "black",
           "width": 0.7
          }
         },
         "name": "SFJ001",
         "type": "bar",
         "x": [
          "Amostra 01",
          "Amostra 02"
         ],
         "y": [
          0.34,
          0
         ]
        },
        {
         "hoverlabel": {
          "namelength": 0
         },
         "hovertemplate": "<b>%{x}</b><br>Gênero: Scatocola<br>Abundância Relativa: %{y:.2f}%",
         "marker": {
          "color": "#636EFA",
          "line": {
           "color": "black",
           "width": 0.7
          }
         },
         "name": "Scatocola",
         "type": "bar",
         "x": [
          "Amostra 01",
          "Amostra 02"
         ],
         "y": [
          0.23,
          0
         ]
        },
        {
         "hoverlabel": {
          "namelength": 0
         },
         "hovertemplate": "<b>%{x}</b><br>Gênero: Spirillospora<br>Abundância Relativa: %{y:.2f}%",
         "marker": {
          "color": "#EF553B",
          "line": {
           "color": "black",
           "width": 0.7
          }
         },
         "name": "Spirillospora",
         "type": "bar",
         "x": [
          "Amostra 01",
          "Amostra 02"
         ],
         "y": [
          0,
          13.2
         ]
        },
        {
         "hoverlabel": {
          "namelength": 0
         },
         "hovertemplate": "<b>%{x}</b><br>Gênero: Streptomyces<br>Abundância Relativa: %{y:.2f}%",
         "marker": {
          "color": "#00CC96",
          "line": {
           "color": "black",
           "width": 0.7
          }
         },
         "name": "Streptomyces",
         "type": "bar",
         "x": [
          "Amostra 01",
          "Amostra 02"
         ],
         "y": [
          0,
          0.65
         ]
        },
        {
         "hoverlabel": {
          "namelength": 0
         },
         "hovertemplate": "<b>%{x}</b><br>Gênero: Sulfobacillus<br>Abundância Relativa: %{y:.2f}%",
         "marker": {
          "color": "#AB63FA",
          "line": {
           "color": "black",
           "width": 0.7
          }
         },
         "name": "Sulfobacillus",
         "type": "bar",
         "x": [
          "Amostra 01",
          "Amostra 02"
         ],
         "y": [
          0,
          0.07
         ]
        },
        {
         "hoverlabel": {
          "namelength": 0
         },
         "hovertemplate": "<b>%{x}</b><br>Gênero: Trebonia<br>Abundância Relativa: %{y:.2f}%",
         "marker": {
          "color": "#FFA15A",
          "line": {
           "color": "black",
           "width": 0.7
          }
         },
         "name": "Trebonia",
         "type": "bar",
         "x": [
          "Amostra 01",
          "Amostra 02"
         ],
         "y": [
          0,
          11.24
         ]
        },
        {
         "hoverlabel": {
          "namelength": 0
         },
         "hovertemplate": "<b>%{x}</b><br>Gênero: UBA11452<br>Abundância Relativa: %{y:.2f}%",
         "marker": {
          "color": "#19D3F3",
          "line": {
           "color": "black",
           "width": 0.7
          }
         },
         "name": "UBA11452",
         "type": "bar",
         "x": [
          "Amostra 01",
          "Amostra 02"
         ],
         "y": [
          0.19,
          0
         ]
        },
        {
         "hoverlabel": {
          "namelength": 0
         },
         "hovertemplate": "<b>%{x}</b><br>Gênero: UBA11524<br>Abundância Relativa: %{y:.2f}%",
         "marker": {
          "color": "#FF6692",
          "line": {
           "color": "black",
           "width": 0.7
          }
         },
         "name": "UBA11524",
         "type": "bar",
         "x": [
          "Amostra 01",
          "Amostra 02"
         ],
         "y": [
          1.98,
          0
         ]
        },
        {
         "hoverlabel": {
          "namelength": 0
         },
         "hovertemplate": "<b>%{x}</b><br>Gênero: UBA1394<br>Abundância Relativa: %{y:.2f}%",
         "marker": {
          "color": "#B6E880",
          "line": {
           "color": "black",
           "width": 0.7
          }
         },
         "name": "UBA1394",
         "type": "bar",
         "x": [
          "Amostra 01",
          "Amostra 02"
         ],
         "y": [
          0.15,
          0
         ]
        },
        {
         "hoverlabel": {
          "namelength": 0
         },
         "hovertemplate": "<b>%{x}</b><br>Gênero: UBA1417<br>Abundância Relativa: %{y:.2f}%",
         "marker": {
          "color": "#FF97FF",
          "line": {
           "color": "black",
           "width": 0.7
          }
         },
         "name": "UBA1417",
         "type": "bar",
         "x": [
          "Amostra 01",
          "Amostra 02"
         ],
         "y": [
          0.19,
          0
         ]
        },
        {
         "hoverlabel": {
          "namelength": 0
         },
         "hovertemplate": "<b>%{x}</b><br>Gênero: UBA1774<br>Abundância Relativa: %{y:.2f}%",
         "marker": {
          "color": "#FECB52",
          "line": {
           "color": "black",
           "width": 0.7
          }
         },
         "name": "UBA1774",
         "type": "bar",
         "x": [
          "Amostra 01",
          "Amostra 02"
         ],
         "y": [
          0.3,
          0
         ]
        },
        {
         "hoverlabel": {
          "namelength": 0
         },
         "hovertemplate": "<b>%{x}</b><br>Gênero: UBA3402<br>Abundância Relativa: %{y:.2f}%",
         "marker": {
          "color": "#636EFA",
          "line": {
           "color": "black",
           "width": 0.7
          }
         },
         "name": "UBA3402",
         "type": "bar",
         "x": [
          "Amostra 01",
          "Amostra 02"
         ],
         "y": [
          0.61,
          0
         ]
        },
        {
         "hoverlabel": {
          "namelength": 0
         },
         "hovertemplate": "<b>%{x}</b><br>Gênero: UBA7597<br>Abundância Relativa: %{y:.2f}%",
         "marker": {
          "color": "#EF553B",
          "line": {
           "color": "black",
           "width": 0.7
          }
         },
         "name": "UBA7597",
         "type": "bar",
         "x": [
          "Amostra 01",
          "Amostra 02"
         ],
         "y": [
          0.53,
          0
         ]
        },
        {
         "hoverlabel": {
          "namelength": 0
         },
         "hovertemplate": "<b>%{x}</b><br>Gênero: UMGS1375<br>Abundância Relativa: %{y:.2f}%",
         "marker": {
          "color": "#00CC96",
          "line": {
           "color": "black",
           "width": 0.7
          }
         },
         "name": "UMGS1375",
         "type": "bar",
         "x": [
          "Amostra 01",
          "Amostra 02"
         ],
         "y": [
          0.42,
          0
         ]
        },
        {
         "hoverlabel": {
          "namelength": 0
         },
         "hovertemplate": "<b>%{x}</b><br>Gênero: UMGS882<br>Abundância Relativa: %{y:.2f}%",
         "marker": {
          "color": "#AB63FA",
          "line": {
           "color": "black",
           "width": 0.7
          }
         },
         "name": "UMGS882",
         "type": "bar",
         "x": [
          "Amostra 01",
          "Amostra 02"
         ],
         "y": [
          1.22,
          0
         ]
        },
        {
         "hoverlabel": {
          "namelength": 0
         },
         "hovertemplate": "<b>%{x}</b><br>Gênero: Ventrimonas<br>Abundância Relativa: %{y:.2f}%",
         "marker": {
          "color": "#FFA15A",
          "line": {
           "color": "black",
           "width": 0.7
          }
         },
         "name": "Ventrimonas",
         "type": "bar",
         "x": [
          "Amostra 01",
          "Amostra 02"
         ],
         "y": [
          0.76,
          0
         ]
        }
       ],
       "layout": {
        "barmode": "stack",
        "legend": {
         "font": {
          "size": 12
         },
         "title": {
          "text": "Gêneros"
         },
         "x": 1.02,
         "y": 1
        },
        "margin": {
         "b": 60,
         "l": 70,
         "r": 50,
         "t": 60
        },
        "plot_bgcolor": "white",
        "template": {
         "data": {
          "bar": [
           {
            "error_x": {
             "color": "#2a3f5f"
            },
            "error_y": {
             "color": "#2a3f5f"
            },
            "marker": {
             "line": {
              "color": "#E5ECF6",
              "width": 0.5
             },
             "pattern": {
              "fillmode": "overlay",
              "size": 10,
              "solidity": 0.2
             }
            },
            "type": "bar"
           }
          ],
          "barpolar": [
           {
            "marker": {
             "line": {
              "color": "#E5ECF6",
              "width": 0.5
             },
             "pattern": {
              "fillmode": "overlay",
              "size": 10,
              "solidity": 0.2
             }
            },
            "type": "barpolar"
           }
          ],
          "carpet": [
           {
            "aaxis": {
             "endlinecolor": "#2a3f5f",
             "gridcolor": "white",
             "linecolor": "white",
             "minorgridcolor": "white",
             "startlinecolor": "#2a3f5f"
            },
            "baxis": {
             "endlinecolor": "#2a3f5f",
             "gridcolor": "white",
             "linecolor": "white",
             "minorgridcolor": "white",
             "startlinecolor": "#2a3f5f"
            },
            "type": "carpet"
           }
          ],
          "choropleth": [
           {
            "colorbar": {
             "outlinewidth": 0,
             "ticks": ""
            },
            "type": "choropleth"
           }
          ],
          "contour": [
           {
            "colorbar": {
             "outlinewidth": 0,
             "ticks": ""
            },
            "colorscale": [
             [
              0,
              "#0d0887"
             ],
             [
              0.1111111111111111,
              "#46039f"
             ],
             [
              0.2222222222222222,
              "#7201a8"
             ],
             [
              0.3333333333333333,
              "#9c179e"
             ],
             [
              0.4444444444444444,
              "#bd3786"
             ],
             [
              0.5555555555555556,
              "#d8576b"
             ],
             [
              0.6666666666666666,
              "#ed7953"
             ],
             [
              0.7777777777777778,
              "#fb9f3a"
             ],
             [
              0.8888888888888888,
              "#fdca26"
             ],
             [
              1,
              "#f0f921"
             ]
            ],
            "type": "contour"
           }
          ],
          "contourcarpet": [
           {
            "colorbar": {
             "outlinewidth": 0,
             "ticks": ""
            },
            "type": "contourcarpet"
           }
          ],
          "heatmap": [
           {
            "colorbar": {
             "outlinewidth": 0,
             "ticks": ""
            },
            "colorscale": [
             [
              0,
              "#0d0887"
             ],
             [
              0.1111111111111111,
              "#46039f"
             ],
             [
              0.2222222222222222,
              "#7201a8"
             ],
             [
              0.3333333333333333,
              "#9c179e"
             ],
             [
              0.4444444444444444,
              "#bd3786"
             ],
             [
              0.5555555555555556,
              "#d8576b"
             ],
             [
              0.6666666666666666,
              "#ed7953"
             ],
             [
              0.7777777777777778,
              "#fb9f3a"
             ],
             [
              0.8888888888888888,
              "#fdca26"
             ],
             [
              1,
              "#f0f921"
             ]
            ],
            "type": "heatmap"
           }
          ],
          "heatmapgl": [
           {
            "colorbar": {
             "outlinewidth": 0,
             "ticks": ""
            },
            "colorscale": [
             [
              0,
              "#0d0887"
             ],
             [
              0.1111111111111111,
              "#46039f"
             ],
             [
              0.2222222222222222,
              "#7201a8"
             ],
             [
              0.3333333333333333,
              "#9c179e"
             ],
             [
              0.4444444444444444,
              "#bd3786"
             ],
             [
              0.5555555555555556,
              "#d8576b"
             ],
             [
              0.6666666666666666,
              "#ed7953"
             ],
             [
              0.7777777777777778,
              "#fb9f3a"
             ],
             [
              0.8888888888888888,
              "#fdca26"
             ],
             [
              1,
              "#f0f921"
             ]
            ],
            "type": "heatmapgl"
           }
          ],
          "histogram": [
           {
            "marker": {
             "pattern": {
              "fillmode": "overlay",
              "size": 10,
              "solidity": 0.2
             }
            },
            "type": "histogram"
           }
          ],
          "histogram2d": [
           {
            "colorbar": {
             "outlinewidth": 0,
             "ticks": ""
            },
            "colorscale": [
             [
              0,
              "#0d0887"
             ],
             [
              0.1111111111111111,
              "#46039f"
             ],
             [
              0.2222222222222222,
              "#7201a8"
             ],
             [
              0.3333333333333333,
              "#9c179e"
             ],
             [
              0.4444444444444444,
              "#bd3786"
             ],
             [
              0.5555555555555556,
              "#d8576b"
             ],
             [
              0.6666666666666666,
              "#ed7953"
             ],
             [
              0.7777777777777778,
              "#fb9f3a"
             ],
             [
              0.8888888888888888,
              "#fdca26"
             ],
             [
              1,
              "#f0f921"
             ]
            ],
            "type": "histogram2d"
           }
          ],
          "histogram2dcontour": [
           {
            "colorbar": {
             "outlinewidth": 0,
             "ticks": ""
            },
            "colorscale": [
             [
              0,
              "#0d0887"
             ],
             [
              0.1111111111111111,
              "#46039f"
             ],
             [
              0.2222222222222222,
              "#7201a8"
             ],
             [
              0.3333333333333333,
              "#9c179e"
             ],
             [
              0.4444444444444444,
              "#bd3786"
             ],
             [
              0.5555555555555556,
              "#d8576b"
             ],
             [
              0.6666666666666666,
              "#ed7953"
             ],
             [
              0.7777777777777778,
              "#fb9f3a"
             ],
             [
              0.8888888888888888,
              "#fdca26"
             ],
             [
              1,
              "#f0f921"
             ]
            ],
            "type": "histogram2dcontour"
           }
          ],
          "mesh3d": [
           {
            "colorbar": {
             "outlinewidth": 0,
             "ticks": ""
            },
            "type": "mesh3d"
           }
          ],
          "parcoords": [
           {
            "line": {
             "colorbar": {
              "outlinewidth": 0,
              "ticks": ""
             }
            },
            "type": "parcoords"
           }
          ],
          "pie": [
           {
            "automargin": true,
            "type": "pie"
           }
          ],
          "scatter": [
           {
            "fillpattern": {
             "fillmode": "overlay",
             "size": 10,
             "solidity": 0.2
            },
            "type": "scatter"
           }
          ],
          "scatter3d": [
           {
            "line": {
             "colorbar": {
              "outlinewidth": 0,
              "ticks": ""
             }
            },
            "marker": {
             "colorbar": {
              "outlinewidth": 0,
              "ticks": ""
             }
            },
            "type": "scatter3d"
           }
          ],
          "scattercarpet": [
           {
            "marker": {
             "colorbar": {
              "outlinewidth": 0,
              "ticks": ""
             }
            },
            "type": "scattercarpet"
           }
          ],
          "scattergeo": [
           {
            "marker": {
             "colorbar": {
              "outlinewidth": 0,
              "ticks": ""
             }
            },
            "type": "scattergeo"
           }
          ],
          "scattergl": [
           {
            "marker": {
             "colorbar": {
              "outlinewidth": 0,
              "ticks": ""
             }
            },
            "type": "scattergl"
           }
          ],
          "scattermapbox": [
           {
            "marker": {
             "colorbar": {
              "outlinewidth": 0,
              "ticks": ""
             }
            },
            "type": "scattermapbox"
           }
          ],
          "scatterpolar": [
           {
            "marker": {
             "colorbar": {
              "outlinewidth": 0,
              "ticks": ""
             }
            },
            "type": "scatterpolar"
           }
          ],
          "scatterpolargl": [
           {
            "marker": {
             "colorbar": {
              "outlinewidth": 0,
              "ticks": ""
             }
            },
            "type": "scatterpolargl"
           }
          ],
          "scatterternary": [
           {
            "marker": {
             "colorbar": {
              "outlinewidth": 0,
              "ticks": ""
             }
            },
            "type": "scatterternary"
           }
          ],
          "surface": [
           {
            "colorbar": {
             "outlinewidth": 0,
             "ticks": ""
            },
            "colorscale": [
             [
              0,
              "#0d0887"
             ],
             [
              0.1111111111111111,
              "#46039f"
             ],
             [
              0.2222222222222222,
              "#7201a8"
             ],
             [
              0.3333333333333333,
              "#9c179e"
             ],
             [
              0.4444444444444444,
              "#bd3786"
             ],
             [
              0.5555555555555556,
              "#d8576b"
             ],
             [
              0.6666666666666666,
              "#ed7953"
             ],
             [
              0.7777777777777778,
              "#fb9f3a"
             ],
             [
              0.8888888888888888,
              "#fdca26"
             ],
             [
              1,
              "#f0f921"
             ]
            ],
            "type": "surface"
           }
          ],
          "table": [
           {
            "cells": {
             "fill": {
              "color": "#EBF0F8"
             },
             "line": {
              "color": "white"
             }
            },
            "header": {
             "fill": {
              "color": "#C8D4E3"
             },
             "line": {
              "color": "white"
             }
            },
            "type": "table"
           }
          ]
         },
         "layout": {
          "annotationdefaults": {
           "arrowcolor": "#2a3f5f",
           "arrowhead": 0,
           "arrowwidth": 1
          },
          "autotypenumbers": "strict",
          "coloraxis": {
           "colorbar": {
            "outlinewidth": 0,
            "ticks": ""
           }
          },
          "colorscale": {
           "diverging": [
            [
             0,
             "#8e0152"
            ],
            [
             0.1,
             "#c51b7d"
            ],
            [
             0.2,
             "#de77ae"
            ],
            [
             0.3,
             "#f1b6da"
            ],
            [
             0.4,
             "#fde0ef"
            ],
            [
             0.5,
             "#f7f7f7"
            ],
            [
             0.6,
             "#e6f5d0"
            ],
            [
             0.7,
             "#b8e186"
            ],
            [
             0.8,
             "#7fbc41"
            ],
            [
             0.9,
             "#4d9221"
            ],
            [
             1,
             "#276419"
            ]
           ],
           "sequential": [
            [
             0,
             "#0d0887"
            ],
            [
             0.1111111111111111,
             "#46039f"
            ],
            [
             0.2222222222222222,
             "#7201a8"
            ],
            [
             0.3333333333333333,
             "#9c179e"
            ],
            [
             0.4444444444444444,
             "#bd3786"
            ],
            [
             0.5555555555555556,
             "#d8576b"
            ],
            [
             0.6666666666666666,
             "#ed7953"
            ],
            [
             0.7777777777777778,
             "#fb9f3a"
            ],
            [
             0.8888888888888888,
             "#fdca26"
            ],
            [
             1,
             "#f0f921"
            ]
           ],
           "sequentialminus": [
            [
             0,
             "#0d0887"
            ],
            [
             0.1111111111111111,
             "#46039f"
            ],
            [
             0.2222222222222222,
             "#7201a8"
            ],
            [
             0.3333333333333333,
             "#9c179e"
            ],
            [
             0.4444444444444444,
             "#bd3786"
            ],
            [
             0.5555555555555556,
             "#d8576b"
            ],
            [
             0.6666666666666666,
             "#ed7953"
            ],
            [
             0.7777777777777778,
             "#fb9f3a"
            ],
            [
             0.8888888888888888,
             "#fdca26"
            ],
            [
             1,
             "#f0f921"
            ]
           ]
          },
          "colorway": [
           "#636efa",
           "#EF553B",
           "#00cc96",
           "#ab63fa",
           "#FFA15A",
           "#19d3f3",
           "#FF6692",
           "#B6E880",
           "#FF97FF",
           "#FECB52"
          ],
          "font": {
           "color": "#2a3f5f"
          },
          "geo": {
           "bgcolor": "white",
           "lakecolor": "white",
           "landcolor": "#E5ECF6",
           "showlakes": true,
           "showland": true,
           "subunitcolor": "white"
          },
          "hoverlabel": {
           "align": "left"
          },
          "hovermode": "closest",
          "mapbox": {
           "style": "light"
          },
          "paper_bgcolor": "white",
          "plot_bgcolor": "#E5ECF6",
          "polar": {
           "angularaxis": {
            "gridcolor": "white",
            "linecolor": "white",
            "ticks": ""
           },
           "bgcolor": "#E5ECF6",
           "radialaxis": {
            "gridcolor": "white",
            "linecolor": "white",
            "ticks": ""
           }
          },
          "scene": {
           "xaxis": {
            "backgroundcolor": "#E5ECF6",
            "gridcolor": "white",
            "gridwidth": 2,
            "linecolor": "white",
            "showbackground": true,
            "ticks": "",
            "zerolinecolor": "white"
           },
           "yaxis": {
            "backgroundcolor": "#E5ECF6",
            "gridcolor": "white",
            "gridwidth": 2,
            "linecolor": "white",
            "showbackground": true,
            "ticks": "",
            "zerolinecolor": "white"
           },
           "zaxis": {
            "backgroundcolor": "#E5ECF6",
            "gridcolor": "white",
            "gridwidth": 2,
            "linecolor": "white",
            "showbackground": true,
            "ticks": "",
            "zerolinecolor": "white"
           }
          },
          "shapedefaults": {
           "line": {
            "color": "#2a3f5f"
           }
          },
          "ternary": {
           "aaxis": {
            "gridcolor": "white",
            "linecolor": "white",
            "ticks": ""
           },
           "baxis": {
            "gridcolor": "white",
            "linecolor": "white",
            "ticks": ""
           },
           "bgcolor": "#E5ECF6",
           "caxis": {
            "gridcolor": "white",
            "linecolor": "white",
            "ticks": ""
           }
          },
          "title": {
           "x": 0.05
          },
          "xaxis": {
           "automargin": true,
           "gridcolor": "white",
           "linecolor": "white",
           "ticks": "",
           "title": {
            "standoff": 15
           },
           "zerolinecolor": "white",
           "zerolinewidth": 2
          },
          "yaxis": {
           "automargin": true,
           "gridcolor": "white",
           "linecolor": "white",
           "ticks": "",
           "title": {
            "standoff": 15
           },
           "zerolinecolor": "white",
           "zerolinewidth": 2
          }
         }
        },
        "title": {
         "font": {
          "color": "black",
          "family": "Arial, sans-serif",
          "size": 16
         },
         "text": "Gráfico de barras empilhadas sobre a Abundância Relativa de Gêneros nas Amostras",
         "x": 0.5
        },
        "xaxis": {
         "linecolor": "black",
         "showline": true,
         "tickfont": {
          "size": 14
         },
         "title": {
          "text": "Amostras"
         }
        },
        "yaxis": {
         "gridcolor": "lightgrey",
         "showgrid": true,
         "tickfont": {
          "size": 14
         },
         "title": {
          "text": "Abundância Relativa (%)"
         },
         "zeroline": true,
         "zerolinecolor": "black"
        }
       }
      }
     },
     "metadata": {},
     "output_type": "display_data"
    }
   ],
   "source": [
    "amostras = [\"Amostra 01\", \"Amostra 02\"]\n",
    "\n",
    "cores = px.colors.qualitative.Plotly\n",
    "\n",
    "trace_list = []\n",
    "for i, genero in enumerate(genero_abundancia_relativa[\"Genero\"].unique()):\n",
    "    valores = genero_abundancia_relativa.loc[\n",
    "        genero_abundancia_relativa[\"Genero\"] == genero, [\"Amostra 1 (%)\", \"Amostra 2 (%)\"]\n",
    "    ].values.flatten()\n",
    "\n",
    "    trace = go.Bar(\n",
    "        x=amostras,\n",
    "        y=valores,\n",
    "        name=genero, \n",
    "        hovertemplate='<b>%{x}</b><br>Gênero: ' + genero + '<br>Abundância Relativa: %{y:.2f}%',\n",
    "        marker=dict(color=cores[i % len(cores)], line=dict(color=\"black\", width=0.7)),\n",
    "        hoverlabel=dict(namelength=0) \n",
    "    )\n",
    "    trace_list.append(trace)\n",
    "\n",
    "layout = go.Layout(\n",
    "    title=dict(\n",
    "        text=\"Gráfico de barras empilhadas sobre a Abundância Relativa de Gêneros nas Amostras\",\n",
    "        x=0.5, \n",
    "        font=dict(size=16, family=\"Arial, sans-serif\", color=\"black\")\n",
    "    ),\n",
    "    xaxis=dict(\n",
    "        title=\"Amostras\",\n",
    "        tickfont=dict(size=14),\n",
    "        showline=True,\n",
    "        linecolor=\"black\"\n",
    "    ),\n",
    "    yaxis=dict(\n",
    "        title=\"Abundância Relativa (%)\",\n",
    "        tickfont=dict(size=14),\n",
    "        showgrid=True,\n",
    "        gridcolor=\"lightgrey\",\n",
    "        zeroline=True,\n",
    "        zerolinecolor=\"black\"\n",
    "    ),\n",
    "    barmode=\"stack\",\n",
    "    legend=dict(\n",
    "        title=\"Gêneros\",\n",
    "        x=1.02,\n",
    "        y=1,\n",
    "        font=dict(size=12)\n",
    "    ),\n",
    "    plot_bgcolor=\"white\",\n",
    "    margin=dict(t=60, r=50, b=60, l=70),\n",
    ")\n",
    "\n",
    "fig = go.Figure(data=trace_list, layout=layout)\n",
    "fig.show()\n",
    "\n",
    "\n",
    "fig.write_html(\"./resultados/grafico_barras_empilhadas.html\")\n",
    "# fig.write_image(\"./resultados/grafico_barras_empilhadas.png\") #Caso queira salvar o gráfico de forma não interativa"
   ]
  },
  {
   "cell_type": "markdown",
   "metadata": {},
   "source": [
    "## Outros gráficos"
   ]
  },
  {
   "cell_type": "markdown",
   "metadata": {},
   "source": [
    "Fiz também outras opções de gráfico para complementar a ilustração da Abundância Relativa."
   ]
  },
  {
   "cell_type": "markdown",
   "metadata": {},
   "source": [
    "## Heatmap"
   ]
  },
  {
   "cell_type": "code",
   "execution_count": 16,
   "metadata": {},
   "outputs": [
    {
     "data": {
      "application/vnd.plotly.v1+json": {
       "config": {
        "plotlyServerURL": "https://plot.ly"
       },
       "data": [
        {
         "colorbar": {
          "title": {
           "text": "Abundância Relativa (%)"
          }
         },
         "colorscale": [
          [
           0,
           "rgb(247,251,255)"
          ],
          [
           0.125,
           "rgb(222,235,247)"
          ],
          [
           0.25,
           "rgb(198,219,239)"
          ],
          [
           0.375,
           "rgb(158,202,225)"
          ],
          [
           0.5,
           "rgb(107,174,214)"
          ],
          [
           0.625,
           "rgb(66,146,198)"
          ],
          [
           0.75,
           "rgb(33,113,181)"
          ],
          [
           0.875,
           "rgb(8,81,156)"
          ],
          [
           1,
           "rgb(8,48,107)"
          ]
         ],
         "hoverinfo": "text",
         "hoverlabel": {
          "namelength": 0
         },
         "hovertemplate": "<br>Gênero: %{x} <br>Abundância Relativa: %{z:.2f}%",
         "showscale": true,
         "text": [
          [
           0.8,
           0,
           3.35,
           1.48,
           0.19,
           0,
           0.95,
           0.49,
           1.33,
           4.72,
           3.96,
           0.19,
           2.17,
           2.47,
           0.49,
           0.65,
           0.38,
           2.63,
           2.51,
           0.11,
           4.15,
           1.83,
           1.22,
           0.11,
           0,
           6.7,
           0.27,
           1.52,
           0.34,
           0.91,
           0.15,
           0.42,
           8.79,
           0.57,
           0,
           0,
           1.41,
           0,
           0.53,
           0.53,
           0.38,
           0.23,
           0.15,
           0,
           0,
           0.3,
           0,
           0,
           0.11,
           0.61,
           0.23,
           0.15,
           7.12,
           8.3,
           4.07,
           3.39,
           2.4,
           6.81,
           0.46,
           0.34,
           0.23,
           0,
           0,
           0,
           0,
           0.19,
           1.98,
           0.15,
           0.19,
           0.3,
           0.61,
           0.53,
           0.42,
           1.22,
           0.76
          ],
          [
           0,
           1.17,
           0,
           0,
           0,
           0.21,
           0,
           0,
           0,
           0,
           0,
           0,
           0,
           0,
           0,
           0,
           0,
           0,
           0,
           0,
           0,
           0,
           0,
           0,
           4.7,
           1.85,
           0,
           0,
           0,
           0,
           0,
           0,
           0,
           0,
           0.89,
           10.97,
           0,
           0.34,
           0,
           0,
           0,
           0,
           0,
           0.55,
           0.48,
           0,
           1.23,
           52.45,
           0,
           0,
           0,
           0,
           0,
           0,
           0,
           0,
           0,
           0,
           0,
           0,
           0,
           13.2,
           0.65,
           0.07,
           11.24,
           0,
           0,
           0,
           0,
           0,
           0,
           0,
           0,
           0,
           0
          ]
         ],
         "type": "heatmap",
         "x": [
          "Acetatifactor",
          "Actinopolyspora",
          "Agathobacter",
          "Agathobaculum",
          "Akkermansia",
          "Alicyclobacillus",
          "Alistipes",
          "Anaerobutyricum",
          "Anaerostipes",
          "Bacteroides",
          "Blautia",
          "Bulleidia",
          "Butyribacter",
          "Butyricicoccus",
          "CAG-115",
          "CAG-177",
          "CAG-217",
          "CAG-41",
          "CAG-83",
          "CAG-841",
          "Clostridium",
          "Coprococcus",
          "Copromonas",
          "Cronobacter",
          "Curtobacterium",
          "Desconhecido",
          "Dialister",
          "Dorea",
          "Duodenibacillus",
          "Dysosmobacter",
          "Ellagibacter",
          "Eubacterium",
          "Faecalibacterium",
          "Fusicatenibacter",
          "Geodermatophilus",
          "Gryllotalpicola",
          "Intestinibacter",
          "JADGQX01",
          "Lachnospira",
          "Limivicinus",
          "Merdicola",
          "Methanobrevibacter",
          "Methanosphaera",
          "Methylophilus",
          "Microlunatus",
          "NSJ-50",
          "Nocardia",
          "Nocardioides",
          "Odoribacter",
          "Parabacteroides",
          "Parasutterella",
          "Parolsenella",
          "Phocaeicola",
          "Prevotella",
          "Pseudoruminococcus",
          "RUG115",
          "Roseburia",
          "Ruminiclostridium",
          "Ruminococcus",
          "SFJ001",
          "Scatocola",
          "Spirillospora",
          "Streptomyces",
          "Sulfobacillus",
          "Trebonia",
          "UBA11452",
          "UBA11524",
          "UBA1394",
          "UBA1417",
          "UBA1774",
          "UBA3402",
          "UBA7597",
          "UMGS1375",
          "UMGS882",
          "Ventrimonas"
         ],
         "y": [
          "Amostra 1 (%)",
          "Amostra 2 (%)"
         ],
         "z": [
          [
           0.8,
           0,
           3.35,
           1.48,
           0.19,
           0,
           0.95,
           0.49,
           1.33,
           4.72,
           3.96,
           0.19,
           2.17,
           2.47,
           0.49,
           0.65,
           0.38,
           2.63,
           2.51,
           0.11,
           4.15,
           1.83,
           1.22,
           0.11,
           0,
           6.7,
           0.27,
           1.52,
           0.34,
           0.91,
           0.15,
           0.42,
           8.79,
           0.57,
           0,
           0,
           1.41,
           0,
           0.53,
           0.53,
           0.38,
           0.23,
           0.15,
           0,
           0,
           0.3,
           0,
           0,
           0.11,
           0.61,
           0.23,
           0.15,
           7.12,
           8.3,
           4.07,
           3.39,
           2.4,
           6.81,
           0.46,
           0.34,
           0.23,
           0,
           0,
           0,
           0,
           0.19,
           1.98,
           0.15,
           0.19,
           0.3,
           0.61,
           0.53,
           0.42,
           1.22,
           0.76
          ],
          [
           0,
           1.17,
           0,
           0,
           0,
           0.21,
           0,
           0,
           0,
           0,
           0,
           0,
           0,
           0,
           0,
           0,
           0,
           0,
           0,
           0,
           0,
           0,
           0,
           0,
           4.7,
           1.85,
           0,
           0,
           0,
           0,
           0,
           0,
           0,
           0,
           0.89,
           10.97,
           0,
           0.34,
           0,
           0,
           0,
           0,
           0,
           0.55,
           0.48,
           0,
           1.23,
           52.45,
           0,
           0,
           0,
           0,
           0,
           0,
           0,
           0,
           0,
           0,
           0,
           0,
           0,
           13.2,
           0.65,
           0.07,
           11.24,
           0,
           0,
           0,
           0,
           0,
           0,
           0,
           0,
           0,
           0
          ]
         ]
        }
       ],
       "layout": {
        "height": 300,
        "margin": {
         "b": 100,
         "l": 50,
         "r": 50,
         "t": 50
        },
        "template": {
         "data": {
          "bar": [
           {
            "error_x": {
             "color": "#2a3f5f"
            },
            "error_y": {
             "color": "#2a3f5f"
            },
            "marker": {
             "line": {
              "color": "#E5ECF6",
              "width": 0.5
             },
             "pattern": {
              "fillmode": "overlay",
              "size": 10,
              "solidity": 0.2
             }
            },
            "type": "bar"
           }
          ],
          "barpolar": [
           {
            "marker": {
             "line": {
              "color": "#E5ECF6",
              "width": 0.5
             },
             "pattern": {
              "fillmode": "overlay",
              "size": 10,
              "solidity": 0.2
             }
            },
            "type": "barpolar"
           }
          ],
          "carpet": [
           {
            "aaxis": {
             "endlinecolor": "#2a3f5f",
             "gridcolor": "white",
             "linecolor": "white",
             "minorgridcolor": "white",
             "startlinecolor": "#2a3f5f"
            },
            "baxis": {
             "endlinecolor": "#2a3f5f",
             "gridcolor": "white",
             "linecolor": "white",
             "minorgridcolor": "white",
             "startlinecolor": "#2a3f5f"
            },
            "type": "carpet"
           }
          ],
          "choropleth": [
           {
            "colorbar": {
             "outlinewidth": 0,
             "ticks": ""
            },
            "type": "choropleth"
           }
          ],
          "contour": [
           {
            "colorbar": {
             "outlinewidth": 0,
             "ticks": ""
            },
            "colorscale": [
             [
              0,
              "#0d0887"
             ],
             [
              0.1111111111111111,
              "#46039f"
             ],
             [
              0.2222222222222222,
              "#7201a8"
             ],
             [
              0.3333333333333333,
              "#9c179e"
             ],
             [
              0.4444444444444444,
              "#bd3786"
             ],
             [
              0.5555555555555556,
              "#d8576b"
             ],
             [
              0.6666666666666666,
              "#ed7953"
             ],
             [
              0.7777777777777778,
              "#fb9f3a"
             ],
             [
              0.8888888888888888,
              "#fdca26"
             ],
             [
              1,
              "#f0f921"
             ]
            ],
            "type": "contour"
           }
          ],
          "contourcarpet": [
           {
            "colorbar": {
             "outlinewidth": 0,
             "ticks": ""
            },
            "type": "contourcarpet"
           }
          ],
          "heatmap": [
           {
            "colorbar": {
             "outlinewidth": 0,
             "ticks": ""
            },
            "colorscale": [
             [
              0,
              "#0d0887"
             ],
             [
              0.1111111111111111,
              "#46039f"
             ],
             [
              0.2222222222222222,
              "#7201a8"
             ],
             [
              0.3333333333333333,
              "#9c179e"
             ],
             [
              0.4444444444444444,
              "#bd3786"
             ],
             [
              0.5555555555555556,
              "#d8576b"
             ],
             [
              0.6666666666666666,
              "#ed7953"
             ],
             [
              0.7777777777777778,
              "#fb9f3a"
             ],
             [
              0.8888888888888888,
              "#fdca26"
             ],
             [
              1,
              "#f0f921"
             ]
            ],
            "type": "heatmap"
           }
          ],
          "heatmapgl": [
           {
            "colorbar": {
             "outlinewidth": 0,
             "ticks": ""
            },
            "colorscale": [
             [
              0,
              "#0d0887"
             ],
             [
              0.1111111111111111,
              "#46039f"
             ],
             [
              0.2222222222222222,
              "#7201a8"
             ],
             [
              0.3333333333333333,
              "#9c179e"
             ],
             [
              0.4444444444444444,
              "#bd3786"
             ],
             [
              0.5555555555555556,
              "#d8576b"
             ],
             [
              0.6666666666666666,
              "#ed7953"
             ],
             [
              0.7777777777777778,
              "#fb9f3a"
             ],
             [
              0.8888888888888888,
              "#fdca26"
             ],
             [
              1,
              "#f0f921"
             ]
            ],
            "type": "heatmapgl"
           }
          ],
          "histogram": [
           {
            "marker": {
             "pattern": {
              "fillmode": "overlay",
              "size": 10,
              "solidity": 0.2
             }
            },
            "type": "histogram"
           }
          ],
          "histogram2d": [
           {
            "colorbar": {
             "outlinewidth": 0,
             "ticks": ""
            },
            "colorscale": [
             [
              0,
              "#0d0887"
             ],
             [
              0.1111111111111111,
              "#46039f"
             ],
             [
              0.2222222222222222,
              "#7201a8"
             ],
             [
              0.3333333333333333,
              "#9c179e"
             ],
             [
              0.4444444444444444,
              "#bd3786"
             ],
             [
              0.5555555555555556,
              "#d8576b"
             ],
             [
              0.6666666666666666,
              "#ed7953"
             ],
             [
              0.7777777777777778,
              "#fb9f3a"
             ],
             [
              0.8888888888888888,
              "#fdca26"
             ],
             [
              1,
              "#f0f921"
             ]
            ],
            "type": "histogram2d"
           }
          ],
          "histogram2dcontour": [
           {
            "colorbar": {
             "outlinewidth": 0,
             "ticks": ""
            },
            "colorscale": [
             [
              0,
              "#0d0887"
             ],
             [
              0.1111111111111111,
              "#46039f"
             ],
             [
              0.2222222222222222,
              "#7201a8"
             ],
             [
              0.3333333333333333,
              "#9c179e"
             ],
             [
              0.4444444444444444,
              "#bd3786"
             ],
             [
              0.5555555555555556,
              "#d8576b"
             ],
             [
              0.6666666666666666,
              "#ed7953"
             ],
             [
              0.7777777777777778,
              "#fb9f3a"
             ],
             [
              0.8888888888888888,
              "#fdca26"
             ],
             [
              1,
              "#f0f921"
             ]
            ],
            "type": "histogram2dcontour"
           }
          ],
          "mesh3d": [
           {
            "colorbar": {
             "outlinewidth": 0,
             "ticks": ""
            },
            "type": "mesh3d"
           }
          ],
          "parcoords": [
           {
            "line": {
             "colorbar": {
              "outlinewidth": 0,
              "ticks": ""
             }
            },
            "type": "parcoords"
           }
          ],
          "pie": [
           {
            "automargin": true,
            "type": "pie"
           }
          ],
          "scatter": [
           {
            "fillpattern": {
             "fillmode": "overlay",
             "size": 10,
             "solidity": 0.2
            },
            "type": "scatter"
           }
          ],
          "scatter3d": [
           {
            "line": {
             "colorbar": {
              "outlinewidth": 0,
              "ticks": ""
             }
            },
            "marker": {
             "colorbar": {
              "outlinewidth": 0,
              "ticks": ""
             }
            },
            "type": "scatter3d"
           }
          ],
          "scattercarpet": [
           {
            "marker": {
             "colorbar": {
              "outlinewidth": 0,
              "ticks": ""
             }
            },
            "type": "scattercarpet"
           }
          ],
          "scattergeo": [
           {
            "marker": {
             "colorbar": {
              "outlinewidth": 0,
              "ticks": ""
             }
            },
            "type": "scattergeo"
           }
          ],
          "scattergl": [
           {
            "marker": {
             "colorbar": {
              "outlinewidth": 0,
              "ticks": ""
             }
            },
            "type": "scattergl"
           }
          ],
          "scattermapbox": [
           {
            "marker": {
             "colorbar": {
              "outlinewidth": 0,
              "ticks": ""
             }
            },
            "type": "scattermapbox"
           }
          ],
          "scatterpolar": [
           {
            "marker": {
             "colorbar": {
              "outlinewidth": 0,
              "ticks": ""
             }
            },
            "type": "scatterpolar"
           }
          ],
          "scatterpolargl": [
           {
            "marker": {
             "colorbar": {
              "outlinewidth": 0,
              "ticks": ""
             }
            },
            "type": "scatterpolargl"
           }
          ],
          "scatterternary": [
           {
            "marker": {
             "colorbar": {
              "outlinewidth": 0,
              "ticks": ""
             }
            },
            "type": "scatterternary"
           }
          ],
          "surface": [
           {
            "colorbar": {
             "outlinewidth": 0,
             "ticks": ""
            },
            "colorscale": [
             [
              0,
              "#0d0887"
             ],
             [
              0.1111111111111111,
              "#46039f"
             ],
             [
              0.2222222222222222,
              "#7201a8"
             ],
             [
              0.3333333333333333,
              "#9c179e"
             ],
             [
              0.4444444444444444,
              "#bd3786"
             ],
             [
              0.5555555555555556,
              "#d8576b"
             ],
             [
              0.6666666666666666,
              "#ed7953"
             ],
             [
              0.7777777777777778,
              "#fb9f3a"
             ],
             [
              0.8888888888888888,
              "#fdca26"
             ],
             [
              1,
              "#f0f921"
             ]
            ],
            "type": "surface"
           }
          ],
          "table": [
           {
            "cells": {
             "fill": {
              "color": "#EBF0F8"
             },
             "line": {
              "color": "white"
             }
            },
            "header": {
             "fill": {
              "color": "#C8D4E3"
             },
             "line": {
              "color": "white"
             }
            },
            "type": "table"
           }
          ]
         },
         "layout": {
          "annotationdefaults": {
           "arrowcolor": "#2a3f5f",
           "arrowhead": 0,
           "arrowwidth": 1
          },
          "autotypenumbers": "strict",
          "coloraxis": {
           "colorbar": {
            "outlinewidth": 0,
            "ticks": ""
           }
          },
          "colorscale": {
           "diverging": [
            [
             0,
             "#8e0152"
            ],
            [
             0.1,
             "#c51b7d"
            ],
            [
             0.2,
             "#de77ae"
            ],
            [
             0.3,
             "#f1b6da"
            ],
            [
             0.4,
             "#fde0ef"
            ],
            [
             0.5,
             "#f7f7f7"
            ],
            [
             0.6,
             "#e6f5d0"
            ],
            [
             0.7,
             "#b8e186"
            ],
            [
             0.8,
             "#7fbc41"
            ],
            [
             0.9,
             "#4d9221"
            ],
            [
             1,
             "#276419"
            ]
           ],
           "sequential": [
            [
             0,
             "#0d0887"
            ],
            [
             0.1111111111111111,
             "#46039f"
            ],
            [
             0.2222222222222222,
             "#7201a8"
            ],
            [
             0.3333333333333333,
             "#9c179e"
            ],
            [
             0.4444444444444444,
             "#bd3786"
            ],
            [
             0.5555555555555556,
             "#d8576b"
            ],
            [
             0.6666666666666666,
             "#ed7953"
            ],
            [
             0.7777777777777778,
             "#fb9f3a"
            ],
            [
             0.8888888888888888,
             "#fdca26"
            ],
            [
             1,
             "#f0f921"
            ]
           ],
           "sequentialminus": [
            [
             0,
             "#0d0887"
            ],
            [
             0.1111111111111111,
             "#46039f"
            ],
            [
             0.2222222222222222,
             "#7201a8"
            ],
            [
             0.3333333333333333,
             "#9c179e"
            ],
            [
             0.4444444444444444,
             "#bd3786"
            ],
            [
             0.5555555555555556,
             "#d8576b"
            ],
            [
             0.6666666666666666,
             "#ed7953"
            ],
            [
             0.7777777777777778,
             "#fb9f3a"
            ],
            [
             0.8888888888888888,
             "#fdca26"
            ],
            [
             1,
             "#f0f921"
            ]
           ]
          },
          "colorway": [
           "#636efa",
           "#EF553B",
           "#00cc96",
           "#ab63fa",
           "#FFA15A",
           "#19d3f3",
           "#FF6692",
           "#B6E880",
           "#FF97FF",
           "#FECB52"
          ],
          "font": {
           "color": "#2a3f5f"
          },
          "geo": {
           "bgcolor": "white",
           "lakecolor": "white",
           "landcolor": "#E5ECF6",
           "showlakes": true,
           "showland": true,
           "subunitcolor": "white"
          },
          "hoverlabel": {
           "align": "left"
          },
          "hovermode": "closest",
          "mapbox": {
           "style": "light"
          },
          "paper_bgcolor": "white",
          "plot_bgcolor": "#E5ECF6",
          "polar": {
           "angularaxis": {
            "gridcolor": "white",
            "linecolor": "white",
            "ticks": ""
           },
           "bgcolor": "#E5ECF6",
           "radialaxis": {
            "gridcolor": "white",
            "linecolor": "white",
            "ticks": ""
           }
          },
          "scene": {
           "xaxis": {
            "backgroundcolor": "#E5ECF6",
            "gridcolor": "white",
            "gridwidth": 2,
            "linecolor": "white",
            "showbackground": true,
            "ticks": "",
            "zerolinecolor": "white"
           },
           "yaxis": {
            "backgroundcolor": "#E5ECF6",
            "gridcolor": "white",
            "gridwidth": 2,
            "linecolor": "white",
            "showbackground": true,
            "ticks": "",
            "zerolinecolor": "white"
           },
           "zaxis": {
            "backgroundcolor": "#E5ECF6",
            "gridcolor": "white",
            "gridwidth": 2,
            "linecolor": "white",
            "showbackground": true,
            "ticks": "",
            "zerolinecolor": "white"
           }
          },
          "shapedefaults": {
           "line": {
            "color": "#2a3f5f"
           }
          },
          "ternary": {
           "aaxis": {
            "gridcolor": "white",
            "linecolor": "white",
            "ticks": ""
           },
           "baxis": {
            "gridcolor": "white",
            "linecolor": "white",
            "ticks": ""
           },
           "bgcolor": "#E5ECF6",
           "caxis": {
            "gridcolor": "white",
            "linecolor": "white",
            "ticks": ""
           }
          },
          "title": {
           "x": 0.05
          },
          "xaxis": {
           "automargin": true,
           "gridcolor": "white",
           "linecolor": "white",
           "ticks": "",
           "title": {
            "standoff": 15
           },
           "zerolinecolor": "white",
           "zerolinewidth": 2
          },
          "yaxis": {
           "automargin": true,
           "gridcolor": "white",
           "linecolor": "white",
           "ticks": "",
           "title": {
            "standoff": 15
           },
           "zerolinecolor": "white",
           "zerolinewidth": 2
          }
         }
        },
        "title": {
         "text": "Heatmap sobre a Abundância Relativa de Gêneros nas Amostras"
        },
        "xaxis": {
         "showgrid": true,
         "tickangle": 45,
         "title": {
          "text": "Gênero"
         }
        },
        "yaxis": {
         "ticktext": [
          "Amostra 1",
          "Amostra 2"
         ],
         "tickvals": [
          0,
          1
         ],
         "title": {
          "text": "Amostras"
         }
        }
       }
      }
     },
     "metadata": {},
     "output_type": "display_data"
    }
   ],
   "source": [
    "data = genero_abundancia_relativa[['Genero', 'Amostra 1 (%)', 'Amostra 2 (%)']].set_index('Genero').transpose()\n",
    "\n",
    "fig2 = go.Figure(data=go.Heatmap(\n",
    "    z=data.values,\n",
    "    x=data.columns,\n",
    "    y=data.index,\n",
    "    colorscale='Blues',\n",
    "    colorbar=dict(title=\"Abundância Relativa (%)\"),\n",
    "    text=data.values,\n",
    "    hoverinfo='text',\n",
    "    showscale=True,\n",
    "    hovertemplate='<br>Gênero: %{x} ' + '<br>Abundância Relativa: %{z:.2f}%',\n",
    "    hoverlabel=dict(namelength=0)\n",
    "))\n",
    "\n",
    "fig2.update_layout(\n",
    "    title='Heatmap sobre a Abundância Relativa de Gêneros nas Amostras',\n",
    "    xaxis_title='Gênero',\n",
    "    yaxis_title='Amostras',\n",
    "    xaxis=dict(showgrid=True, tickangle=45),\n",
    "    yaxis=dict(tickvals=[0, 1], ticktext=['Amostra 1', 'Amostra 2']),\n",
    "    height=300, \n",
    "    margin=dict(l=50, r=50, t=50, b=100), \n",
    "    xaxis_tickangle=45,\n",
    ")\n",
    "\n",
    "fig2.show()\n",
    "\n",
    "fig2.write_html(\"./resultados/heatmap.html\")\n",
    "# fig2.write_image(\"./resultados/heatmap.png\") #Caso queira salvar o gráfico de forma não interativa"
   ]
  },
  {
   "cell_type": "markdown",
   "metadata": {},
   "source": [
    "## SankeyPlot"
   ]
  },
  {
   "cell_type": "code",
   "execution_count": 17,
   "metadata": {},
   "outputs": [
    {
     "data": {
      "application/vnd.plotly.v1+json": {
       "config": {
        "plotlyServerURL": "https://plot.ly"
       },
       "data": [
        {
         "link": {
          "color": [
           "rgba(0, 255, 0, 0.008)",
           "rgba(0, 255, 0, 0.011699999999999999)",
           "rgba(0, 255, 0, 0.0335)",
           "rgba(0, 255, 0, 0.0148)",
           "rgba(0, 255, 0, 0.0019)",
           "rgba(0, 255, 0, 0.0021)",
           "rgba(0, 255, 0, 0.0095)",
           "rgba(0, 255, 0, 0.0049)",
           "rgba(0, 255, 0, 0.013300000000000001)",
           "rgba(0, 255, 0, 0.0472)",
           "rgba(0, 255, 0, 0.039599999999999996)",
           "rgba(0, 255, 0, 0.0019)",
           "rgba(0, 255, 0, 0.0217)",
           "rgba(0, 255, 0, 0.024700000000000003)",
           "rgba(0, 255, 0, 0.0049)",
           "rgba(0, 255, 0, 0.006500000000000001)",
           "rgba(0, 255, 0, 0.0038)",
           "rgba(0, 255, 0, 0.0263)",
           "rgba(0, 255, 0, 0.025099999999999997)",
           "rgba(0, 255, 0, 0.0011)",
           "rgba(0, 255, 0, 0.0415)",
           "rgba(0, 255, 0, 0.0183)",
           "rgba(0, 255, 0, 0.012199999999999999)",
           "rgba(0, 255, 0, 0.0011)",
           "rgba(0, 255, 0, 0.047)",
           "rgba(0, 255, 0, 0.067)",
           "rgba(0, 255, 0, 0.018500000000000003)",
           "rgba(0, 255, 0, 0.0027)",
           "rgba(0, 255, 0, 0.0152)",
           "rgba(0, 255, 0, 0.0034000000000000002)",
           "rgba(0, 255, 0, 0.0091)",
           "rgba(0, 255, 0, 0.0015)",
           "rgba(0, 255, 0, 0.0042)",
           "rgba(0, 255, 0, 0.08789999999999999)",
           "rgba(0, 255, 0, 0.005699999999999999)",
           "rgba(0, 255, 0, 0.0089)",
           "rgba(0, 255, 0, 0.1097)",
           "rgba(0, 255, 0, 0.0141)",
           "rgba(0, 255, 0, 0.0034000000000000002)",
           "rgba(0, 255, 0, 0.0053)",
           "rgba(0, 255, 0, 0.0053)",
           "rgba(0, 255, 0, 0.0038)",
           "rgba(0, 255, 0, 0.0023)",
           "rgba(0, 255, 0, 0.0015)",
           "rgba(0, 255, 0, 0.0055000000000000005)",
           "rgba(0, 255, 0, 0.0048)",
           "rgba(0, 255, 0, 0.003)",
           "rgba(0, 255, 0, 0.0123)",
           "rgba(0, 255, 0, 0.5245000000000001)",
           "rgba(0, 255, 0, 0.0011)",
           "rgba(0, 255, 0, 0.0060999999999999995)",
           "rgba(0, 255, 0, 0.0023)",
           "rgba(0, 255, 0, 0.0015)",
           "rgba(0, 255, 0, 0.0712)",
           "rgba(0, 255, 0, 0.083)",
           "rgba(0, 255, 0, 0.0407)",
           "rgba(0, 255, 0, 0.0339)",
           "rgba(0, 255, 0, 0.024)",
           "rgba(0, 255, 0, 0.0681)",
           "rgba(0, 255, 0, 0.0046)",
           "rgba(0, 255, 0, 0.0034000000000000002)",
           "rgba(0, 255, 0, 0.0023)",
           "rgba(0, 255, 0, 0.132)",
           "rgba(0, 255, 0, 0.006500000000000001)",
           "rgba(0, 255, 0, 0.0007000000000000001)",
           "rgba(0, 255, 0, 0.1124)",
           "rgba(0, 255, 0, 0.0019)",
           "rgba(0, 255, 0, 0.019799999999999998)",
           "rgba(0, 255, 0, 0.0015)",
           "rgba(0, 255, 0, 0.0019)",
           "rgba(0, 255, 0, 0.003)",
           "rgba(0, 255, 0, 0.0060999999999999995)",
           "rgba(0, 255, 0, 0.0053)",
           "rgba(0, 255, 0, 0.0042)",
           "rgba(0, 255, 0, 0.012199999999999999)",
           "rgba(0, 255, 0, 0.0076)"
          ],
          "source": [
           0,
           1,
           0,
           0,
           0,
           1,
           0,
           0,
           0,
           0,
           0,
           0,
           0,
           0,
           0,
           0,
           0,
           0,
           0,
           0,
           0,
           0,
           0,
           0,
           1,
           0,
           1,
           0,
           0,
           0,
           0,
           0,
           0,
           0,
           0,
           1,
           1,
           0,
           1,
           0,
           0,
           0,
           0,
           0,
           1,
           1,
           0,
           1,
           1,
           0,
           0,
           0,
           0,
           0,
           0,
           0,
           0,
           0,
           0,
           0,
           0,
           0,
           1,
           1,
           1,
           1,
           0,
           0,
           0,
           0,
           0,
           0,
           0,
           0,
           0,
           0
          ],
          "target": [
           4,
           5,
           6,
           7,
           8,
           9,
           10,
           11,
           12,
           13,
           14,
           15,
           16,
           17,
           18,
           19,
           20,
           21,
           22,
           23,
           24,
           25,
           26,
           27,
           28,
           29,
           29,
           30,
           31,
           32,
           33,
           34,
           35,
           36,
           37,
           38,
           39,
           40,
           41,
           42,
           43,
           44,
           45,
           46,
           47,
           48,
           49,
           50,
           51,
           52,
           53,
           54,
           55,
           56,
           57,
           58,
           59,
           60,
           61,
           62,
           63,
           64,
           65,
           66,
           67,
           68,
           69,
           70,
           71,
           72,
           73,
           74,
           75,
           76,
           77,
           78
          ],
          "value": [
           0.8,
           1.17,
           3.35,
           1.48,
           0.19,
           0.21,
           0.95,
           0.49,
           1.33,
           4.72,
           3.96,
           0.19,
           2.17,
           2.47,
           0.49,
           0.65,
           0.38,
           2.63,
           2.51,
           0.11,
           4.15,
           1.83,
           1.22,
           0.11,
           4.7,
           6.7,
           1.85,
           0.27,
           1.52,
           0.34,
           0.91,
           0.15,
           0.42,
           8.79,
           0.57,
           0.89,
           10.97,
           1.41,
           0.34,
           0.53,
           0.53,
           0.38,
           0.23,
           0.15,
           0.55,
           0.48,
           0.3,
           1.23,
           52.45,
           0.11,
           0.61,
           0.23,
           0.15,
           7.12,
           8.3,
           4.07,
           3.39,
           2.4,
           6.81,
           0.46,
           0.34,
           0.23,
           13.2,
           0.65,
           0.07,
           11.24,
           0.19,
           1.98,
           0.15,
           0.19,
           0.3,
           0.61,
           0.53,
           0.42,
           1.22,
           0.76
          ]
         },
         "node": {
          "color": "darkgreen",
          "hoverlabel": {
           "namelength": 0
          },
          "hovertemplate": "Gênero: %{label} <br>Abundância Relativa: %{value:.2f}%",
          "label": [
           "Amostra 1",
           "Amostra 2",
           "Acetatifactor",
           "Actinopolyspora",
           "Agathobacter",
           "Agathobaculum",
           "Akkermansia",
           "Alicyclobacillus",
           "Alistipes",
           "Anaerobutyricum",
           "Anaerostipes",
           "Bacteroides",
           "Blautia",
           "Bulleidia",
           "Butyribacter",
           "Butyricicoccus",
           "CAG-115",
           "CAG-177",
           "CAG-217",
           "CAG-41",
           "CAG-83",
           "CAG-841",
           "Clostridium",
           "Coprococcus",
           "Copromonas",
           "Cronobacter",
           "Curtobacterium",
           "Desconhecido",
           "Dialister",
           "Dorea",
           "Duodenibacillus",
           "Dysosmobacter",
           "Ellagibacter",
           "Eubacterium",
           "Faecalibacterium",
           "Fusicatenibacter",
           "Geodermatophilus",
           "Gryllotalpicola",
           "Intestinibacter",
           "JADGQX01",
           "Lachnospira",
           "Limivicinus",
           "Merdicola",
           "Methanobrevibacter",
           "Methanosphaera",
           "Methylophilus",
           "Microlunatus",
           "NSJ-50",
           "Nocardia",
           "Nocardioides",
           "Odoribacter",
           "Parabacteroides",
           "Parasutterella",
           "Parolsenella",
           "Phocaeicola",
           "Prevotella",
           "Pseudoruminococcus",
           "RUG115",
           "Roseburia",
           "Ruminiclostridium",
           "Ruminococcus",
           "SFJ001",
           "Scatocola",
           "Spirillospora",
           "Streptomyces",
           "Sulfobacillus",
           "Trebonia",
           "UBA11452",
           "UBA11524",
           "UBA1394",
           "UBA1417",
           "UBA1774",
           "UBA3402",
           "UBA7597",
           "UMGS1375",
           "UMGS882",
           "Ventrimonas"
          ],
          "line": {
           "color": "black",
           "width": 0.5
          },
          "pad": 15,
          "thickness": 20
         },
         "type": "sankey"
        }
       ],
       "layout": {
        "dragmode": false,
        "font": {
         "size": 12
        },
        "hovermode": "closest",
        "modebar": {
         "remove": [
          "zoom",
          "pan",
          "reset",
          "zoomIn",
          "zoomOut",
          "hoverCompare",
          "toggleSpikelines",
          "toImage"
         ]
        },
        "showlegend": false,
        "template": {
         "data": {
          "bar": [
           {
            "error_x": {
             "color": "#2a3f5f"
            },
            "error_y": {
             "color": "#2a3f5f"
            },
            "marker": {
             "line": {
              "color": "#E5ECF6",
              "width": 0.5
             },
             "pattern": {
              "fillmode": "overlay",
              "size": 10,
              "solidity": 0.2
             }
            },
            "type": "bar"
           }
          ],
          "barpolar": [
           {
            "marker": {
             "line": {
              "color": "#E5ECF6",
              "width": 0.5
             },
             "pattern": {
              "fillmode": "overlay",
              "size": 10,
              "solidity": 0.2
             }
            },
            "type": "barpolar"
           }
          ],
          "carpet": [
           {
            "aaxis": {
             "endlinecolor": "#2a3f5f",
             "gridcolor": "white",
             "linecolor": "white",
             "minorgridcolor": "white",
             "startlinecolor": "#2a3f5f"
            },
            "baxis": {
             "endlinecolor": "#2a3f5f",
             "gridcolor": "white",
             "linecolor": "white",
             "minorgridcolor": "white",
             "startlinecolor": "#2a3f5f"
            },
            "type": "carpet"
           }
          ],
          "choropleth": [
           {
            "colorbar": {
             "outlinewidth": 0,
             "ticks": ""
            },
            "type": "choropleth"
           }
          ],
          "contour": [
           {
            "colorbar": {
             "outlinewidth": 0,
             "ticks": ""
            },
            "colorscale": [
             [
              0,
              "#0d0887"
             ],
             [
              0.1111111111111111,
              "#46039f"
             ],
             [
              0.2222222222222222,
              "#7201a8"
             ],
             [
              0.3333333333333333,
              "#9c179e"
             ],
             [
              0.4444444444444444,
              "#bd3786"
             ],
             [
              0.5555555555555556,
              "#d8576b"
             ],
             [
              0.6666666666666666,
              "#ed7953"
             ],
             [
              0.7777777777777778,
              "#fb9f3a"
             ],
             [
              0.8888888888888888,
              "#fdca26"
             ],
             [
              1,
              "#f0f921"
             ]
            ],
            "type": "contour"
           }
          ],
          "contourcarpet": [
           {
            "colorbar": {
             "outlinewidth": 0,
             "ticks": ""
            },
            "type": "contourcarpet"
           }
          ],
          "heatmap": [
           {
            "colorbar": {
             "outlinewidth": 0,
             "ticks": ""
            },
            "colorscale": [
             [
              0,
              "#0d0887"
             ],
             [
              0.1111111111111111,
              "#46039f"
             ],
             [
              0.2222222222222222,
              "#7201a8"
             ],
             [
              0.3333333333333333,
              "#9c179e"
             ],
             [
              0.4444444444444444,
              "#bd3786"
             ],
             [
              0.5555555555555556,
              "#d8576b"
             ],
             [
              0.6666666666666666,
              "#ed7953"
             ],
             [
              0.7777777777777778,
              "#fb9f3a"
             ],
             [
              0.8888888888888888,
              "#fdca26"
             ],
             [
              1,
              "#f0f921"
             ]
            ],
            "type": "heatmap"
           }
          ],
          "heatmapgl": [
           {
            "colorbar": {
             "outlinewidth": 0,
             "ticks": ""
            },
            "colorscale": [
             [
              0,
              "#0d0887"
             ],
             [
              0.1111111111111111,
              "#46039f"
             ],
             [
              0.2222222222222222,
              "#7201a8"
             ],
             [
              0.3333333333333333,
              "#9c179e"
             ],
             [
              0.4444444444444444,
              "#bd3786"
             ],
             [
              0.5555555555555556,
              "#d8576b"
             ],
             [
              0.6666666666666666,
              "#ed7953"
             ],
             [
              0.7777777777777778,
              "#fb9f3a"
             ],
             [
              0.8888888888888888,
              "#fdca26"
             ],
             [
              1,
              "#f0f921"
             ]
            ],
            "type": "heatmapgl"
           }
          ],
          "histogram": [
           {
            "marker": {
             "pattern": {
              "fillmode": "overlay",
              "size": 10,
              "solidity": 0.2
             }
            },
            "type": "histogram"
           }
          ],
          "histogram2d": [
           {
            "colorbar": {
             "outlinewidth": 0,
             "ticks": ""
            },
            "colorscale": [
             [
              0,
              "#0d0887"
             ],
             [
              0.1111111111111111,
              "#46039f"
             ],
             [
              0.2222222222222222,
              "#7201a8"
             ],
             [
              0.3333333333333333,
              "#9c179e"
             ],
             [
              0.4444444444444444,
              "#bd3786"
             ],
             [
              0.5555555555555556,
              "#d8576b"
             ],
             [
              0.6666666666666666,
              "#ed7953"
             ],
             [
              0.7777777777777778,
              "#fb9f3a"
             ],
             [
              0.8888888888888888,
              "#fdca26"
             ],
             [
              1,
              "#f0f921"
             ]
            ],
            "type": "histogram2d"
           }
          ],
          "histogram2dcontour": [
           {
            "colorbar": {
             "outlinewidth": 0,
             "ticks": ""
            },
            "colorscale": [
             [
              0,
              "#0d0887"
             ],
             [
              0.1111111111111111,
              "#46039f"
             ],
             [
              0.2222222222222222,
              "#7201a8"
             ],
             [
              0.3333333333333333,
              "#9c179e"
             ],
             [
              0.4444444444444444,
              "#bd3786"
             ],
             [
              0.5555555555555556,
              "#d8576b"
             ],
             [
              0.6666666666666666,
              "#ed7953"
             ],
             [
              0.7777777777777778,
              "#fb9f3a"
             ],
             [
              0.8888888888888888,
              "#fdca26"
             ],
             [
              1,
              "#f0f921"
             ]
            ],
            "type": "histogram2dcontour"
           }
          ],
          "mesh3d": [
           {
            "colorbar": {
             "outlinewidth": 0,
             "ticks": ""
            },
            "type": "mesh3d"
           }
          ],
          "parcoords": [
           {
            "line": {
             "colorbar": {
              "outlinewidth": 0,
              "ticks": ""
             }
            },
            "type": "parcoords"
           }
          ],
          "pie": [
           {
            "automargin": true,
            "type": "pie"
           }
          ],
          "scatter": [
           {
            "fillpattern": {
             "fillmode": "overlay",
             "size": 10,
             "solidity": 0.2
            },
            "type": "scatter"
           }
          ],
          "scatter3d": [
           {
            "line": {
             "colorbar": {
              "outlinewidth": 0,
              "ticks": ""
             }
            },
            "marker": {
             "colorbar": {
              "outlinewidth": 0,
              "ticks": ""
             }
            },
            "type": "scatter3d"
           }
          ],
          "scattercarpet": [
           {
            "marker": {
             "colorbar": {
              "outlinewidth": 0,
              "ticks": ""
             }
            },
            "type": "scattercarpet"
           }
          ],
          "scattergeo": [
           {
            "marker": {
             "colorbar": {
              "outlinewidth": 0,
              "ticks": ""
             }
            },
            "type": "scattergeo"
           }
          ],
          "scattergl": [
           {
            "marker": {
             "colorbar": {
              "outlinewidth": 0,
              "ticks": ""
             }
            },
            "type": "scattergl"
           }
          ],
          "scattermapbox": [
           {
            "marker": {
             "colorbar": {
              "outlinewidth": 0,
              "ticks": ""
             }
            },
            "type": "scattermapbox"
           }
          ],
          "scatterpolar": [
           {
            "marker": {
             "colorbar": {
              "outlinewidth": 0,
              "ticks": ""
             }
            },
            "type": "scatterpolar"
           }
          ],
          "scatterpolargl": [
           {
            "marker": {
             "colorbar": {
              "outlinewidth": 0,
              "ticks": ""
             }
            },
            "type": "scatterpolargl"
           }
          ],
          "scatterternary": [
           {
            "marker": {
             "colorbar": {
              "outlinewidth": 0,
              "ticks": ""
             }
            },
            "type": "scatterternary"
           }
          ],
          "surface": [
           {
            "colorbar": {
             "outlinewidth": 0,
             "ticks": ""
            },
            "colorscale": [
             [
              0,
              "#0d0887"
             ],
             [
              0.1111111111111111,
              "#46039f"
             ],
             [
              0.2222222222222222,
              "#7201a8"
             ],
             [
              0.3333333333333333,
              "#9c179e"
             ],
             [
              0.4444444444444444,
              "#bd3786"
             ],
             [
              0.5555555555555556,
              "#d8576b"
             ],
             [
              0.6666666666666666,
              "#ed7953"
             ],
             [
              0.7777777777777778,
              "#fb9f3a"
             ],
             [
              0.8888888888888888,
              "#fdca26"
             ],
             [
              1,
              "#f0f921"
             ]
            ],
            "type": "surface"
           }
          ],
          "table": [
           {
            "cells": {
             "fill": {
              "color": "#EBF0F8"
             },
             "line": {
              "color": "white"
             }
            },
            "header": {
             "fill": {
              "color": "#C8D4E3"
             },
             "line": {
              "color": "white"
             }
            },
            "type": "table"
           }
          ]
         },
         "layout": {
          "annotationdefaults": {
           "arrowcolor": "#2a3f5f",
           "arrowhead": 0,
           "arrowwidth": 1
          },
          "autotypenumbers": "strict",
          "coloraxis": {
           "colorbar": {
            "outlinewidth": 0,
            "ticks": ""
           }
          },
          "colorscale": {
           "diverging": [
            [
             0,
             "#8e0152"
            ],
            [
             0.1,
             "#c51b7d"
            ],
            [
             0.2,
             "#de77ae"
            ],
            [
             0.3,
             "#f1b6da"
            ],
            [
             0.4,
             "#fde0ef"
            ],
            [
             0.5,
             "#f7f7f7"
            ],
            [
             0.6,
             "#e6f5d0"
            ],
            [
             0.7,
             "#b8e186"
            ],
            [
             0.8,
             "#7fbc41"
            ],
            [
             0.9,
             "#4d9221"
            ],
            [
             1,
             "#276419"
            ]
           ],
           "sequential": [
            [
             0,
             "#0d0887"
            ],
            [
             0.1111111111111111,
             "#46039f"
            ],
            [
             0.2222222222222222,
             "#7201a8"
            ],
            [
             0.3333333333333333,
             "#9c179e"
            ],
            [
             0.4444444444444444,
             "#bd3786"
            ],
            [
             0.5555555555555556,
             "#d8576b"
            ],
            [
             0.6666666666666666,
             "#ed7953"
            ],
            [
             0.7777777777777778,
             "#fb9f3a"
            ],
            [
             0.8888888888888888,
             "#fdca26"
            ],
            [
             1,
             "#f0f921"
            ]
           ],
           "sequentialminus": [
            [
             0,
             "#0d0887"
            ],
            [
             0.1111111111111111,
             "#46039f"
            ],
            [
             0.2222222222222222,
             "#7201a8"
            ],
            [
             0.3333333333333333,
             "#9c179e"
            ],
            [
             0.4444444444444444,
             "#bd3786"
            ],
            [
             0.5555555555555556,
             "#d8576b"
            ],
            [
             0.6666666666666666,
             "#ed7953"
            ],
            [
             0.7777777777777778,
             "#fb9f3a"
            ],
            [
             0.8888888888888888,
             "#fdca26"
            ],
            [
             1,
             "#f0f921"
            ]
           ]
          },
          "colorway": [
           "#636efa",
           "#EF553B",
           "#00cc96",
           "#ab63fa",
           "#FFA15A",
           "#19d3f3",
           "#FF6692",
           "#B6E880",
           "#FF97FF",
           "#FECB52"
          ],
          "font": {
           "color": "#2a3f5f"
          },
          "geo": {
           "bgcolor": "white",
           "lakecolor": "white",
           "landcolor": "#E5ECF6",
           "showlakes": true,
           "showland": true,
           "subunitcolor": "white"
          },
          "hoverlabel": {
           "align": "left"
          },
          "hovermode": "closest",
          "mapbox": {
           "style": "light"
          },
          "paper_bgcolor": "white",
          "plot_bgcolor": "#E5ECF6",
          "polar": {
           "angularaxis": {
            "gridcolor": "white",
            "linecolor": "white",
            "ticks": ""
           },
           "bgcolor": "#E5ECF6",
           "radialaxis": {
            "gridcolor": "white",
            "linecolor": "white",
            "ticks": ""
           }
          },
          "scene": {
           "xaxis": {
            "backgroundcolor": "#E5ECF6",
            "gridcolor": "white",
            "gridwidth": 2,
            "linecolor": "white",
            "showbackground": true,
            "ticks": "",
            "zerolinecolor": "white"
           },
           "yaxis": {
            "backgroundcolor": "#E5ECF6",
            "gridcolor": "white",
            "gridwidth": 2,
            "linecolor": "white",
            "showbackground": true,
            "ticks": "",
            "zerolinecolor": "white"
           },
           "zaxis": {
            "backgroundcolor": "#E5ECF6",
            "gridcolor": "white",
            "gridwidth": 2,
            "linecolor": "white",
            "showbackground": true,
            "ticks": "",
            "zerolinecolor": "white"
           }
          },
          "shapedefaults": {
           "line": {
            "color": "#2a3f5f"
           }
          },
          "ternary": {
           "aaxis": {
            "gridcolor": "white",
            "linecolor": "white",
            "ticks": ""
           },
           "baxis": {
            "gridcolor": "white",
            "linecolor": "white",
            "ticks": ""
           },
           "bgcolor": "#E5ECF6",
           "caxis": {
            "gridcolor": "white",
            "linecolor": "white",
            "ticks": ""
           }
          },
          "title": {
           "x": 0.05
          },
          "xaxis": {
           "automargin": true,
           "gridcolor": "white",
           "linecolor": "white",
           "ticks": "",
           "title": {
            "standoff": 15
           },
           "zerolinecolor": "white",
           "zerolinewidth": 2
          },
          "yaxis": {
           "automargin": true,
           "gridcolor": "white",
           "linecolor": "white",
           "ticks": "",
           "title": {
            "standoff": 15
           },
           "zerolinecolor": "white",
           "zerolinewidth": 2
          }
         }
        },
        "title": {
         "font": {
          "size": 16
         },
         "text": "Sankey Plot sobre a Abundância Relativa de Gêneros nas Amostras",
         "x": 0.5,
         "y": 0.95
        }
       }
      }
     },
     "metadata": {},
     "output_type": "display_data"
    }
   ],
   "source": [
    "labels = ['Amostra 1', 'Amostra 2'] + list(genero_abundancia_relativa['Genero'].unique())\n",
    "sources = []\n",
    "targets = []\n",
    "values = []\n",
    "colors = []\n",
    "\n",
    "color_scale = 'Blues'  \n",
    "\n",
    "for index, row in genero_abundancia_relativa.iterrows():\n",
    "    for i, amostra in enumerate(['Amostra 1 (%)', 'Amostra 2 (%)']):\n",
    "        if row[amostra] > 0:\n",
    "            sources.append(i) \n",
    "            targets.append(labels.index(row['Genero']) + 2) \n",
    "            values.append(row[amostra])\n",
    "            colors.append(row[amostra])\n",
    "\n",
    "fig3 = go.Figure(go.Sankey(\n",
    "    node=dict(\n",
    "        pad=15,\n",
    "        thickness=20,\n",
    "        line=dict(color=\"black\", width=0.5),\n",
    "        label=labels,\n",
    "        color=\"darkgreen\",\n",
    "        hovertemplate=('Gênero: ' + '%{label} <br>' + 'Abundância Relativa: %{value:.2f}%'),\n",
    "        hoverlabel=dict(namelength=0)\n",
    "    ),\n",
    "    link=dict(\n",
    "        source=sources,\n",
    "        target=targets,\n",
    "        value=values,\n",
    "        color=[\"rgba(0, 255, 0, {})\".format(val/100) for val in colors]\n",
    "    )\n",
    "))\n",
    "\n",
    "fig3.update_layout(\n",
    "    title_text=\"Sankey Plot sobre a Abundância Relativa de Gêneros nas Amostras\",\n",
    "    font_size=12,\n",
    "    title_font_size=16,\n",
    "    title_x=0.5,  \n",
    "    title_y=0.95, \n",
    "    dragmode=False,\n",
    "    hovermode='closest',\n",
    "    showlegend=False, \n",
    "    modebar=dict(\n",
    "        remove=['zoom', 'pan', 'reset', 'zoomIn', 'zoomOut', 'hoverCompare', 'toggleSpikelines', 'toImage']\n",
    "    ) \n",
    ")\n",
    "\n",
    "fig3.show()\n",
    "\n",
    "fig3.write_html(\"./resultados/sankey.html\")\n",
    "# fig3.write_image(\"./resultados/hsankey.png\") #Caso queira salvar o gráfico de forma não interativa"
   ]
  },
  {
   "cell_type": "markdown",
   "metadata": {},
   "source": [
    "## ---"
   ]
  },
  {
   "cell_type": "markdown",
   "metadata": {},
   "source": [
    "# 4. Criação de um relatório automatizado"
   ]
  },
  {
   "cell_type": "markdown",
   "metadata": {},
   "source": [
    "Optei por gerar um relatório automatizado em HTML para a melhor apresentação e divulgação dos resultados."
   ]
  },
  {
   "cell_type": "markdown",
   "metadata": {},
   "source": [
    "Gerar tabela em HTML formatada"
   ]
  },
  {
   "cell_type": "code",
   "execution_count": 18,
   "metadata": {},
   "outputs": [],
   "source": [
    "tabela_html = genero_abundancia_relativa.to_html(index=False, classes='table table-striped table-responsive text-center', border=0)"
   ]
  },
  {
   "cell_type": "markdown",
   "metadata": {},
   "source": [
    "Criar relatório em HTML"
   ]
  },
  {
   "cell_type": "code",
   "execution_count": 19,
   "metadata": {},
   "outputs": [],
   "source": [
    "html_content = f'''\n",
    "<!DOCTYPE html>\n",
    "<html lang=\"pt-br\">\n",
    "<head>\n",
    "    <meta charset=\"UTF-8\">\n",
    "    <meta name=\"viewport\" content=\"width=device-width, initial-scale=1.0\">\n",
    "    <title>Processo seletivo - Bioinformática GoGenetic (Relatório)</title>\n",
    "    <script src=\"https://cdn.plot.ly/plotly-latest.min.js\"></script>\n",
    "    <link rel=\"stylesheet\" href=\"https://cdnjs.cloudflare.com/ajax/libs/bootstrap/5.3.0/css/bootstrap.min.css\">\n",
    "    <style>\n",
    "        .container {{\n",
    "            max-width: 800px;\n",
    "            margin: auto;\n",
    "        }}\n",
    "        table {{\n",
    "            width: 100%;\n",
    "            text-align: center;\n",
    "        }}\n",
    "    </style>\n",
    "</head>\n",
    "<body>\n",
    "    <div class=\"container\">\n",
    "        <h1 class=\"text-center mt-4\">Processo seletivo - Bioinformática GoGenetic (Relatório)</h1>\n",
    "        <hr>\n",
    "        <h2 class=\"text-center\">Tabela de Abundância Relativa</h2>\n",
    "        {tabela_html}  <!-- Tabela de dados -->\n",
    "        <hr>\n",
    "        <h2 class=\"text-center\">Gráficos de Abundância</h2>\n",
    "        <div id=\"grafico\"></div>\n",
    "        <hr>\n",
    "        <div id=\"grafico2\"></div>\n",
    "        <hr>\n",
    "        <h2 class=\"text-center\"></h2>\n",
    "        <div id=\"grafico3\"></div>  <!-- Novo gráfico Sankey -->\n",
    "    </div>\n",
    "    <script>\n",
    "        var grafico = {fig.to_json()};  // Gráfico 1\n",
    "        Plotly.newPlot('grafico', grafico.data, grafico.layout);\n",
    "\n",
    "        var grafico2 = {fig2.to_json()};  // Gráfico 2\n",
    "        Plotly.newPlot('grafico2', grafico2.data, grafico2.layout);\n",
    "\n",
    "        var grafico3 = {fig3.to_json()};  // Gráfico Sankey\n",
    "        Plotly.newPlot('grafico3', grafico3.data, grafico3.layout);  // Exibindo o gráfico Sankey\n",
    "    </script>\n",
    "    <div class=\"container text-center\">\n",
    "    <h2>Resultados</h2>\n",
    "        <h3 style=\"font-weight: normal;\">A Amostra 1 apresenta uma maior diversidade de gêneros, com várias categorias exibindo porcentagens mais bem distribuídas. Sua diversidade é significativamente maior, sugerindo uma comunidade microbiana mais equilibrada e variada.</h3>\n",
    "        <h3 style=\"font-weight: normal;\">A Amostra 2 é dominada principalmente pelo gênero Nocardioides (com Abundância Relativa de 52,45%), seguindo pelos gêneros Spirillospora (13,20%) e Trebonia (11,24%). Conjuntamente, outros gêneros aparecem com menores frequências. Seu perfil pode indicar uma possível seleção ambiental ou condições específicas favorecendo determinados microrganismos.</h3>  \n",
    "        <h3 style=\"font-weight: normal;\">Alguns gêneros são exclusivos de cada amostra, sem sobreposição entre elas. Por exemplo, Faecalibacterium (8,79%), Prevotella (8,30%) e Phocaeicola (7,12%) são abundantes na Amostra 1, mas ausentes na Amostra 2. A presença de um percentual considerável de gêneros desconhecidos em ambas as amostras (6,70% na Amostra 1 e 1,85% na Amostra 2) sugere que há componentes ainda não caracterizados na microbiota analisada.</h3> \n",
    "    </div>\n",
    "</body>\n",
    "</html>\n",
    "'''\n"
   ]
  },
  {
   "cell_type": "markdown",
   "metadata": {},
   "source": [
    "Salvar o relatório como um arquivo HTML"
   ]
  },
  {
   "cell_type": "code",
   "execution_count": 20,
   "metadata": {},
   "outputs": [],
   "source": [
    "report_path = \"./resultados/relatorio.html\"\n",
    "with open(report_path, \"w\", encoding=\"utf-8\") as f:\n",
    "    f.write(html_content)"
   ]
  }
 ],
 "metadata": {
  "kernelspec": {
   "display_name": "Python 3",
   "language": "python",
   "name": "python3"
  },
  "language_info": {
   "codemirror_mode": {
    "name": "ipython",
    "version": 3
   },
   "file_extension": ".py",
   "mimetype": "text/x-python",
   "name": "python",
   "nbconvert_exporter": "python",
   "pygments_lexer": "ipython3",
   "version": "3.13.2"
  }
 },
 "nbformat": 4,
 "nbformat_minor": 2
}
